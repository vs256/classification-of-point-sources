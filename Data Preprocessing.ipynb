{
 "cells": [
  {
   "cell_type": "code",
   "execution_count": 1,
   "id": "1ed485ce",
   "metadata": {},
   "outputs": [],
   "source": [
    "import pandas as pd\n",
    "from pandas import set_option\n",
    "import numpy as np\n",
    "import math\n",
    "import matplotlib.pyplot as plt\n",
    "import seaborn as sns\n",
    "from scipy.stats import norm\n",
    "from sklearn import preprocessing"
   ]
  },
  {
   "cell_type": "code",
   "execution_count": 2,
   "id": "cb3b26ae",
   "metadata": {},
   "outputs": [],
   "source": [
    "# reads stars dataset\n",
    "stars_data = pd.read_csv(\"/Users/sara/Documents/9000stars.csv\")"
   ]
  },
  {
   "cell_type": "code",
   "execution_count": 6,
   "id": "50b52899",
   "metadata": {},
   "outputs": [
    {
     "name": "stdout",
     "output_type": "stream",
     "text": [
      "<class 'pandas.core.frame.DataFrame'>\n",
      "RangeIndex: 9000 entries, 0 to 8999\n",
      "Data columns (total 7 columns):\n",
      " #   Column    Non-Null Count  Dtype  \n",
      "---  ------    --------------  -----  \n",
      " 0   psfmag_u  9000 non-null   float64\n",
      " 1   psfmag_g  9000 non-null   float64\n",
      " 2   psfmag_r  9000 non-null   float64\n",
      " 3   psfmag_i  9000 non-null   float64\n",
      " 4   psfmag_z  9000 non-null   float64\n",
      " 5   ra        9000 non-null   float64\n",
      " 6   dec       9000 non-null   float64\n",
      "dtypes: float64(7)\n",
      "memory usage: 492.3 KB\n"
     ]
    }
   ],
   "source": [
    "stars_data.info()"
   ]
  },
  {
   "cell_type": "code",
   "execution_count": 4,
   "id": "1a594437",
   "metadata": {},
   "outputs": [
    {
     "data": {
      "text/plain": [
       "psfmag_u    0\n",
       "psfmag_g    0\n",
       "psfmag_r    0\n",
       "psfmag_i    0\n",
       "psfmag_z    0\n",
       "ra          0\n",
       "dec         0\n",
       "dtype: int64"
      ]
     },
     "execution_count": 4,
     "metadata": {},
     "output_type": "execute_result"
    }
   ],
   "source": [
    "stars_data.isnull().sum()"
   ]
  },
  {
   "cell_type": "code",
   "execution_count": 5,
   "id": "5d3335cf",
   "metadata": {},
   "outputs": [
    {
     "data": {
      "text/html": [
       "<div>\n",
       "<style scoped>\n",
       "    .dataframe tbody tr th:only-of-type {\n",
       "        vertical-align: middle;\n",
       "    }\n",
       "\n",
       "    .dataframe tbody tr th {\n",
       "        vertical-align: top;\n",
       "    }\n",
       "\n",
       "    .dataframe thead th {\n",
       "        text-align: right;\n",
       "    }\n",
       "</style>\n",
       "<table border=\"1\" class=\"dataframe\">\n",
       "  <thead>\n",
       "    <tr style=\"text-align: right;\">\n",
       "      <th></th>\n",
       "      <th>ra</th>\n",
       "      <th>dec</th>\n",
       "      <th>u - g</th>\n",
       "      <th>g - r</th>\n",
       "      <th>r - i</th>\n",
       "      <th>i - z</th>\n",
       "      <th>class</th>\n",
       "    </tr>\n",
       "  </thead>\n",
       "  <tbody>\n",
       "    <tr>\n",
       "      <th>0</th>\n",
       "      <td>185.059755</td>\n",
       "      <td>21.200400</td>\n",
       "      <td>2.580215</td>\n",
       "      <td>1.040095</td>\n",
       "      <td>0.373651</td>\n",
       "      <td>0.257066</td>\n",
       "      <td>1</td>\n",
       "    </tr>\n",
       "    <tr>\n",
       "      <th>1</th>\n",
       "      <td>185.907305</td>\n",
       "      <td>22.504748</td>\n",
       "      <td>1.096437</td>\n",
       "      <td>0.302107</td>\n",
       "      <td>0.141417</td>\n",
       "      <td>0.053389</td>\n",
       "      <td>1</td>\n",
       "    </tr>\n",
       "    <tr>\n",
       "      <th>2</th>\n",
       "      <td>185.586523</td>\n",
       "      <td>23.457027</td>\n",
       "      <td>1.993011</td>\n",
       "      <td>0.773340</td>\n",
       "      <td>0.287099</td>\n",
       "      <td>0.019375</td>\n",
       "      <td>1</td>\n",
       "    </tr>\n",
       "    <tr>\n",
       "      <th>3</th>\n",
       "      <td>187.724806</td>\n",
       "      <td>24.577781</td>\n",
       "      <td>1.888792</td>\n",
       "      <td>0.723919</td>\n",
       "      <td>0.233415</td>\n",
       "      <td>0.132157</td>\n",
       "      <td>1</td>\n",
       "    </tr>\n",
       "    <tr>\n",
       "      <th>4</th>\n",
       "      <td>186.968891</td>\n",
       "      <td>19.419215</td>\n",
       "      <td>0.997486</td>\n",
       "      <td>0.224851</td>\n",
       "      <td>0.125817</td>\n",
       "      <td>0.016775</td>\n",
       "      <td>1</td>\n",
       "    </tr>\n",
       "  </tbody>\n",
       "</table>\n",
       "</div>"
      ],
      "text/plain": [
       "           ra        dec     u - g     g - r     r - i     i - z  class\n",
       "0  185.059755  21.200400  2.580215  1.040095  0.373651  0.257066      1\n",
       "1  185.907305  22.504748  1.096437  0.302107  0.141417  0.053389      1\n",
       "2  185.586523  23.457027  1.993011  0.773340  0.287099  0.019375      1\n",
       "3  187.724806  24.577781  1.888792  0.723919  0.233415  0.132157      1\n",
       "4  186.968891  19.419215  0.997486  0.224851  0.125817  0.016775      1"
      ]
     },
     "execution_count": 5,
     "metadata": {},
     "output_type": "execute_result"
    }
   ],
   "source": [
    "# calculates color indices\n",
    "star_u_g = stars_data['psfmag_u'] - stars_data['psfmag_g']\n",
    "star_g_r = stars_data['psfmag_g'] - stars_data['psfmag_r']\n",
    "star_r_i = stars_data['psfmag_r'] - stars_data['psfmag_i']\n",
    "star_i_z = stars_data['psfmag_i'] - stars_data['psfmag_z']\n",
    "\n",
    "# creates class column where 1 represents main sequence and red giant stars\n",
    "c = {'class': [1]*9000}\n",
    "c1 = pd.DataFrame(c)\n",
    "\n",
    "# concatenates all new columns in a single dataframe\n",
    "stars = pd.concat([stars_data['ra'], stars_data['dec'], star_u_g, star_g_r, star_r_i, star_i_z, c1], axis=1)\n",
    "\n",
    "# relabels the new data frame\n",
    "stars.columns = ['ra', 'dec', 'u - g', 'g - r', 'r - i', 'i - z', 'class']\n",
    "stars.head()"
   ]
  },
  {
   "cell_type": "code",
   "execution_count": 7,
   "id": "1e7f757e",
   "metadata": {},
   "outputs": [
    {
     "name": "stderr",
     "output_type": "stream",
     "text": [
      "/Users/sara/opt/anaconda3/lib/python3.8/site-packages/pandas/util/_decorators.py:311: ParserWarning: Falling back to the 'python' engine because the 'c' engine does not support regex separators (separators > 1 char and different from '\\s+' are interpreted as regex); you can avoid this warning by specifying engine='python'.\n",
      "  return func(*args, **kwargs)\n"
     ]
    },
    {
     "data": {
      "text/plain": [
       "(10090, 8)"
      ]
     },
     "execution_count": 7,
     "metadata": {},
     "output_type": "execute_result"
    }
   ],
   "source": [
    "# sep parameter removes empty spaces in the dataset\n",
    "wd_data = pd.read_csv(\"/Users/sara/Documents/white_dwarfs.csv\", sep=r'\\s*,\\s*')\n",
    "wd_data.shape"
   ]
  },
  {
   "cell_type": "code",
   "execution_count": 8,
   "id": "06d6e88d",
   "metadata": {},
   "outputs": [
    {
     "data": {
      "text/plain": [
       "Sp_Class     0\n",
       "u_mag       51\n",
       "g_mag       51\n",
       "r_mag       51\n",
       "i_mag       51\n",
       "z_mag       51\n",
       "RA           0\n",
       "Dec          0\n",
       "dtype: int64"
      ]
     },
     "execution_count": 8,
     "metadata": {},
     "output_type": "execute_result"
    }
   ],
   "source": [
    "wd_data.isnull().sum()"
   ]
  },
  {
   "cell_type": "code",
   "execution_count": 9,
   "id": "b5e65b9b",
   "metadata": {},
   "outputs": [
    {
     "name": "stdout",
     "output_type": "stream",
     "text": [
      "<class 'pandas.core.frame.DataFrame'>\n",
      "RangeIndex: 10039 entries, 0 to 10038\n",
      "Data columns (total 8 columns):\n",
      " #   Column    Non-Null Count  Dtype  \n",
      "---  ------    --------------  -----  \n",
      " 0   Sp_Class  10039 non-null  object \n",
      " 1   u_mag     10039 non-null  float64\n",
      " 2   g_mag     10039 non-null  float64\n",
      " 3   r_mag     10039 non-null  float64\n",
      " 4   i_mag     10039 non-null  float64\n",
      " 5   z_mag     10039 non-null  float64\n",
      " 6   RA        10039 non-null  float64\n",
      " 7   Dec       10039 non-null  float64\n",
      "dtypes: float64(7), object(1)\n",
      "memory usage: 627.6+ KB\n"
     ]
    }
   ],
   "source": [
    "wd_data.dropna(axis = 0, inplace = True) # drops rows with empty entries\n",
    "wd_data.reset_index(drop=True, inplace=True) # resets index values\n",
    "wd_data.info()"
   ]
  },
  {
   "cell_type": "code",
   "execution_count": 10,
   "id": "bfa50e65",
   "metadata": {},
   "outputs": [
    {
     "name": "stdout",
     "output_type": "stream",
     "text": [
      "<class 'pandas.core.frame.DataFrame'>\n",
      "RangeIndex: 4000 entries, 0 to 3999\n",
      "Data columns (total 8 columns):\n",
      " #   Column    Non-Null Count  Dtype  \n",
      "---  ------    --------------  -----  \n",
      " 0   Sp_Class  4000 non-null   object \n",
      " 1   u_mag     4000 non-null   float64\n",
      " 2   g_mag     4000 non-null   float64\n",
      " 3   r_mag     4000 non-null   float64\n",
      " 4   i_mag     4000 non-null   float64\n",
      " 5   z_mag     4000 non-null   float64\n",
      " 6   RA        4000 non-null   float64\n",
      " 7   Dec       4000 non-null   float64\n",
      "dtypes: float64(7), object(1)\n",
      "memory usage: 250.1+ KB\n"
     ]
    }
   ],
   "source": [
    "wd = wd_data.head(4000) # pulls 4000 objects fromt the dataset\n",
    "wd.info()"
   ]
  },
  {
   "cell_type": "code",
   "execution_count": 11,
   "id": "f0b485b2",
   "metadata": {},
   "outputs": [
    {
     "data": {
      "text/html": [
       "<div>\n",
       "<style scoped>\n",
       "    .dataframe tbody tr th:only-of-type {\n",
       "        vertical-align: middle;\n",
       "    }\n",
       "\n",
       "    .dataframe tbody tr th {\n",
       "        vertical-align: top;\n",
       "    }\n",
       "\n",
       "    .dataframe thead th {\n",
       "        text-align: right;\n",
       "    }\n",
       "</style>\n",
       "<table border=\"1\" class=\"dataframe\">\n",
       "  <thead>\n",
       "    <tr style=\"text-align: right;\">\n",
       "      <th></th>\n",
       "      <th>ra</th>\n",
       "      <th>dec</th>\n",
       "      <th>u - g</th>\n",
       "      <th>g - r</th>\n",
       "      <th>r - i</th>\n",
       "      <th>i - z</th>\n",
       "      <th>class</th>\n",
       "    </tr>\n",
       "  </thead>\n",
       "  <tbody>\n",
       "    <tr>\n",
       "      <th>0</th>\n",
       "      <td>0.028147</td>\n",
       "      <td>-0.781616</td>\n",
       "      <td>0.351</td>\n",
       "      <td>-0.049</td>\n",
       "      <td>-0.168</td>\n",
       "      <td>-0.355</td>\n",
       "      <td>2</td>\n",
       "    </tr>\n",
       "    <tr>\n",
       "      <th>1</th>\n",
       "      <td>0.029836</td>\n",
       "      <td>-9.727753</td>\n",
       "      <td>-0.144</td>\n",
       "      <td>-0.435</td>\n",
       "      <td>-0.277</td>\n",
       "      <td>-0.875</td>\n",
       "      <td>2</td>\n",
       "    </tr>\n",
       "    <tr>\n",
       "      <th>2</th>\n",
       "      <td>0.048182</td>\n",
       "      <td>-8.835651</td>\n",
       "      <td>0.322</td>\n",
       "      <td>0.039</td>\n",
       "      <td>-0.068</td>\n",
       "      <td>-0.219</td>\n",
       "      <td>2</td>\n",
       "    </tr>\n",
       "    <tr>\n",
       "      <th>3</th>\n",
       "      <td>0.051346</td>\n",
       "      <td>-0.845157</td>\n",
       "      <td>0.382</td>\n",
       "      <td>0.116</td>\n",
       "      <td>-0.105</td>\n",
       "      <td>0.018</td>\n",
       "      <td>2</td>\n",
       "    </tr>\n",
       "    <tr>\n",
       "      <th>4</th>\n",
       "      <td>0.093902</td>\n",
       "      <td>-10.861710</td>\n",
       "      <td>0.394</td>\n",
       "      <td>0.081</td>\n",
       "      <td>-0.076</td>\n",
       "      <td>-0.072</td>\n",
       "      <td>2</td>\n",
       "    </tr>\n",
       "  </tbody>\n",
       "</table>\n",
       "</div>"
      ],
      "text/plain": [
       "         ra        dec  u - g  g - r  r - i  i - z  class\n",
       "0  0.028147  -0.781616  0.351 -0.049 -0.168 -0.355      2\n",
       "1  0.029836  -9.727753 -0.144 -0.435 -0.277 -0.875      2\n",
       "2  0.048182  -8.835651  0.322  0.039 -0.068 -0.219      2\n",
       "3  0.051346  -0.845157  0.382  0.116 -0.105  0.018      2\n",
       "4  0.093902 -10.861710  0.394  0.081 -0.076 -0.072      2"
      ]
     },
     "execution_count": 11,
     "metadata": {},
     "output_type": "execute_result"
    }
   ],
   "source": [
    "# calculates color indices\n",
    "wd_u_g = wd['u_mag'] - wd['g_mag']\n",
    "wd_g_r = wd['g_mag'] - wd['r_mag']\n",
    "wd_r_i = wd['r_mag'] - wd['i_mag']\n",
    "wd_i_z = wd['i_mag'] - wd['z_mag']\n",
    "\n",
    "# creates class column where 2 represents white dwarfs\n",
    "d = {'class': [2]*4000}\n",
    "d1 = pd.DataFrame(d)\n",
    "\n",
    "# concatenates all new columns in a single dataframe\n",
    "white_dwarfs = pd.concat([wd['RA'], wd['Dec'], wd_u_g, wd_g_r, wd_r_i, wd_i_z, d1], axis=1)\n",
    "\n",
    "# relabels the new data frame\n",
    "white_dwarfs.columns = ['ra', 'dec', 'u - g', 'g - r', 'r - i', 'i - z', 'class']\n",
    "white_dwarfs.head()"
   ]
  },
  {
   "cell_type": "code",
   "execution_count": 12,
   "id": "012b6625",
   "metadata": {},
   "outputs": [
    {
     "name": "stdout",
     "output_type": "stream",
     "text": [
      "<class 'pandas.core.frame.DataFrame'>\n",
      "RangeIndex: 4001 entries, 0 to 4000\n",
      "Data columns (total 7 columns):\n",
      " #   Column        Non-Null Count  Dtype  \n",
      "---  ------        --------------  -----  \n",
      " 0   bestpsfmag_u  4001 non-null   float64\n",
      " 1   bestpsfmag_g  4001 non-null   float64\n",
      " 2   bestpsfmag_r  4001 non-null   float64\n",
      " 3   bestpsfmag_i  4001 non-null   float64\n",
      " 4   bestpsfmag_z  4001 non-null   float64\n",
      " 5   bestra        4001 non-null   float64\n",
      " 6   bestdec       4001 non-null   float64\n",
      "dtypes: float64(7)\n",
      "memory usage: 218.9 KB\n"
     ]
    }
   ],
   "source": [
    "# reads quasar dataset\n",
    "quasar_data = pd.read_csv(\"/Users/sara/Documents/4000quasars.csv\")\n",
    "quasar_data.info()"
   ]
  },
  {
   "cell_type": "code",
   "execution_count": 13,
   "id": "06f80544",
   "metadata": {},
   "outputs": [
    {
     "data": {
      "text/html": [
       "<div>\n",
       "<style scoped>\n",
       "    .dataframe tbody tr th:only-of-type {\n",
       "        vertical-align: middle;\n",
       "    }\n",
       "\n",
       "    .dataframe tbody tr th {\n",
       "        vertical-align: top;\n",
       "    }\n",
       "\n",
       "    .dataframe thead th {\n",
       "        text-align: right;\n",
       "    }\n",
       "</style>\n",
       "<table border=\"1\" class=\"dataframe\">\n",
       "  <thead>\n",
       "    <tr style=\"text-align: right;\">\n",
       "      <th></th>\n",
       "      <th>bestpsfmag_u</th>\n",
       "      <th>bestpsfmag_g</th>\n",
       "      <th>bestpsfmag_r</th>\n",
       "      <th>bestpsfmag_i</th>\n",
       "      <th>bestpsfmag_z</th>\n",
       "      <th>bestra</th>\n",
       "      <th>bestdec</th>\n",
       "    </tr>\n",
       "  </thead>\n",
       "  <tbody>\n",
       "    <tr>\n",
       "      <th>0</th>\n",
       "      <td>0.000000</td>\n",
       "      <td>0.000000</td>\n",
       "      <td>0.000000</td>\n",
       "      <td>0.000000</td>\n",
       "      <td>0.000000</td>\n",
       "      <td>0.000000</td>\n",
       "      <td>0.000000</td>\n",
       "    </tr>\n",
       "    <tr>\n",
       "      <th>1</th>\n",
       "      <td>19.212008</td>\n",
       "      <td>18.995501</td>\n",
       "      <td>18.852859</td>\n",
       "      <td>18.525974</td>\n",
       "      <td>18.548332</td>\n",
       "      <td>236.536785</td>\n",
       "      <td>-1.023130</td>\n",
       "    </tr>\n",
       "    <tr>\n",
       "      <th>2</th>\n",
       "      <td>19.195280</td>\n",
       "      <td>18.539495</td>\n",
       "      <td>18.331589</td>\n",
       "      <td>18.142981</td>\n",
       "      <td>17.888554</td>\n",
       "      <td>236.803702</td>\n",
       "      <td>-0.996016</td>\n",
       "    </tr>\n",
       "    <tr>\n",
       "      <th>3</th>\n",
       "      <td>19.501833</td>\n",
       "      <td>19.106926</td>\n",
       "      <td>18.946705</td>\n",
       "      <td>18.754808</td>\n",
       "      <td>18.662457</td>\n",
       "      <td>236.912099</td>\n",
       "      <td>-0.865047</td>\n",
       "    </tr>\n",
       "    <tr>\n",
       "      <th>4</th>\n",
       "      <td>19.028120</td>\n",
       "      <td>18.585810</td>\n",
       "      <td>18.500437</td>\n",
       "      <td>18.566914</td>\n",
       "      <td>18.421614</td>\n",
       "      <td>237.164774</td>\n",
       "      <td>-0.866404</td>\n",
       "    </tr>\n",
       "  </tbody>\n",
       "</table>\n",
       "</div>"
      ],
      "text/plain": [
       "   bestpsfmag_u  bestpsfmag_g  bestpsfmag_r  bestpsfmag_i  bestpsfmag_z  \\\n",
       "0      0.000000      0.000000      0.000000      0.000000      0.000000   \n",
       "1     19.212008     18.995501     18.852859     18.525974     18.548332   \n",
       "2     19.195280     18.539495     18.331589     18.142981     17.888554   \n",
       "3     19.501833     19.106926     18.946705     18.754808     18.662457   \n",
       "4     19.028120     18.585810     18.500437     18.566914     18.421614   \n",
       "\n",
       "       bestra   bestdec  \n",
       "0    0.000000  0.000000  \n",
       "1  236.536785 -1.023130  \n",
       "2  236.803702 -0.996016  \n",
       "3  236.912099 -0.865047  \n",
       "4  237.164774 -0.866404  "
      ]
     },
     "execution_count": 13,
     "metadata": {},
     "output_type": "execute_result"
    }
   ],
   "source": [
    "# 4001 sources were pulled because the first row has zero entries, this row needs to be deleted\n",
    "quasar_data.head()"
   ]
  },
  {
   "cell_type": "code",
   "execution_count": 14,
   "id": "be466e5b",
   "metadata": {},
   "outputs": [
    {
     "data": {
      "text/html": [
       "<div>\n",
       "<style scoped>\n",
       "    .dataframe tbody tr th:only-of-type {\n",
       "        vertical-align: middle;\n",
       "    }\n",
       "\n",
       "    .dataframe tbody tr th {\n",
       "        vertical-align: top;\n",
       "    }\n",
       "\n",
       "    .dataframe thead th {\n",
       "        text-align: right;\n",
       "    }\n",
       "</style>\n",
       "<table border=\"1\" class=\"dataframe\">\n",
       "  <thead>\n",
       "    <tr style=\"text-align: right;\">\n",
       "      <th></th>\n",
       "      <th>bestpsfmag_u</th>\n",
       "      <th>bestpsfmag_g</th>\n",
       "      <th>bestpsfmag_r</th>\n",
       "      <th>bestpsfmag_i</th>\n",
       "      <th>bestpsfmag_z</th>\n",
       "      <th>bestra</th>\n",
       "      <th>bestdec</th>\n",
       "    </tr>\n",
       "  </thead>\n",
       "  <tbody>\n",
       "    <tr>\n",
       "      <th>0</th>\n",
       "      <td>19.212008</td>\n",
       "      <td>18.995501</td>\n",
       "      <td>18.852859</td>\n",
       "      <td>18.525974</td>\n",
       "      <td>18.548332</td>\n",
       "      <td>236.536785</td>\n",
       "      <td>-1.023130</td>\n",
       "    </tr>\n",
       "    <tr>\n",
       "      <th>1</th>\n",
       "      <td>19.195280</td>\n",
       "      <td>18.539495</td>\n",
       "      <td>18.331589</td>\n",
       "      <td>18.142981</td>\n",
       "      <td>17.888554</td>\n",
       "      <td>236.803702</td>\n",
       "      <td>-0.996016</td>\n",
       "    </tr>\n",
       "    <tr>\n",
       "      <th>2</th>\n",
       "      <td>19.501833</td>\n",
       "      <td>19.106926</td>\n",
       "      <td>18.946705</td>\n",
       "      <td>18.754808</td>\n",
       "      <td>18.662457</td>\n",
       "      <td>236.912099</td>\n",
       "      <td>-0.865047</td>\n",
       "    </tr>\n",
       "    <tr>\n",
       "      <th>3</th>\n",
       "      <td>19.028120</td>\n",
       "      <td>18.585810</td>\n",
       "      <td>18.500437</td>\n",
       "      <td>18.566914</td>\n",
       "      <td>18.421614</td>\n",
       "      <td>237.164774</td>\n",
       "      <td>-0.866404</td>\n",
       "    </tr>\n",
       "    <tr>\n",
       "      <th>4</th>\n",
       "      <td>19.033434</td>\n",
       "      <td>18.770231</td>\n",
       "      <td>18.594955</td>\n",
       "      <td>18.307590</td>\n",
       "      <td>18.170120</td>\n",
       "      <td>237.251915</td>\n",
       "      <td>-0.881905</td>\n",
       "    </tr>\n",
       "  </tbody>\n",
       "</table>\n",
       "</div>"
      ],
      "text/plain": [
       "   bestpsfmag_u  bestpsfmag_g  bestpsfmag_r  bestpsfmag_i  bestpsfmag_z  \\\n",
       "0     19.212008     18.995501     18.852859     18.525974     18.548332   \n",
       "1     19.195280     18.539495     18.331589     18.142981     17.888554   \n",
       "2     19.501833     19.106926     18.946705     18.754808     18.662457   \n",
       "3     19.028120     18.585810     18.500437     18.566914     18.421614   \n",
       "4     19.033434     18.770231     18.594955     18.307590     18.170120   \n",
       "\n",
       "       bestra   bestdec  \n",
       "0  236.536785 -1.023130  \n",
       "1  236.803702 -0.996016  \n",
       "2  236.912099 -0.865047  \n",
       "3  237.164774 -0.866404  \n",
       "4  237.251915 -0.881905  "
      ]
     },
     "execution_count": 14,
     "metadata": {},
     "output_type": "execute_result"
    }
   ],
   "source": [
    "quasar_data.drop(index=0, inplace=True) # deletes first row\n",
    "quasar_data.reset_index(drop=True, inplace=True) # resets index values\n",
    "quasar_data.head()"
   ]
  },
  {
   "cell_type": "code",
   "execution_count": 15,
   "id": "2dacbd6c",
   "metadata": {},
   "outputs": [
    {
     "data": {
      "text/html": [
       "<div>\n",
       "<style scoped>\n",
       "    .dataframe tbody tr th:only-of-type {\n",
       "        vertical-align: middle;\n",
       "    }\n",
       "\n",
       "    .dataframe tbody tr th {\n",
       "        vertical-align: top;\n",
       "    }\n",
       "\n",
       "    .dataframe thead th {\n",
       "        text-align: right;\n",
       "    }\n",
       "</style>\n",
       "<table border=\"1\" class=\"dataframe\">\n",
       "  <thead>\n",
       "    <tr style=\"text-align: right;\">\n",
       "      <th></th>\n",
       "      <th>ra</th>\n",
       "      <th>dec</th>\n",
       "      <th>u - g</th>\n",
       "      <th>g - r</th>\n",
       "      <th>r - i</th>\n",
       "      <th>i - z</th>\n",
       "      <th>class</th>\n",
       "    </tr>\n",
       "  </thead>\n",
       "  <tbody>\n",
       "    <tr>\n",
       "      <th>0</th>\n",
       "      <td>236.536785</td>\n",
       "      <td>-1.023130</td>\n",
       "      <td>0.216507</td>\n",
       "      <td>0.142642</td>\n",
       "      <td>0.326885</td>\n",
       "      <td>-0.022358</td>\n",
       "      <td>3</td>\n",
       "    </tr>\n",
       "    <tr>\n",
       "      <th>1</th>\n",
       "      <td>236.803702</td>\n",
       "      <td>-0.996016</td>\n",
       "      <td>0.655785</td>\n",
       "      <td>0.207906</td>\n",
       "      <td>0.188608</td>\n",
       "      <td>0.254427</td>\n",
       "      <td>3</td>\n",
       "    </tr>\n",
       "    <tr>\n",
       "      <th>2</th>\n",
       "      <td>236.912099</td>\n",
       "      <td>-0.865047</td>\n",
       "      <td>0.394907</td>\n",
       "      <td>0.160221</td>\n",
       "      <td>0.191897</td>\n",
       "      <td>0.092351</td>\n",
       "      <td>3</td>\n",
       "    </tr>\n",
       "    <tr>\n",
       "      <th>3</th>\n",
       "      <td>237.164774</td>\n",
       "      <td>-0.866404</td>\n",
       "      <td>0.442310</td>\n",
       "      <td>0.085373</td>\n",
       "      <td>-0.066477</td>\n",
       "      <td>0.145300</td>\n",
       "      <td>3</td>\n",
       "    </tr>\n",
       "    <tr>\n",
       "      <th>4</th>\n",
       "      <td>237.251915</td>\n",
       "      <td>-0.881905</td>\n",
       "      <td>0.263203</td>\n",
       "      <td>0.175276</td>\n",
       "      <td>0.287365</td>\n",
       "      <td>0.137470</td>\n",
       "      <td>3</td>\n",
       "    </tr>\n",
       "  </tbody>\n",
       "</table>\n",
       "</div>"
      ],
      "text/plain": [
       "           ra       dec     u - g     g - r     r - i     i - z  class\n",
       "0  236.536785 -1.023130  0.216507  0.142642  0.326885 -0.022358      3\n",
       "1  236.803702 -0.996016  0.655785  0.207906  0.188608  0.254427      3\n",
       "2  236.912099 -0.865047  0.394907  0.160221  0.191897  0.092351      3\n",
       "3  237.164774 -0.866404  0.442310  0.085373 -0.066477  0.145300      3\n",
       "4  237.251915 -0.881905  0.263203  0.175276  0.287365  0.137470      3"
      ]
     },
     "execution_count": 15,
     "metadata": {},
     "output_type": "execute_result"
    }
   ],
   "source": [
    "# calculates color indices\n",
    "qso_u_g = quasar_data['bestpsfmag_u'] - quasar_data['bestpsfmag_g']\n",
    "qso_g_r = quasar_data['bestpsfmag_g'] - quasar_data['bestpsfmag_r']\n",
    "qso_r_i = quasar_data['bestpsfmag_r'] - quasar_data['bestpsfmag_i']\n",
    "qso_i_z = quasar_data['bestpsfmag_i'] - quasar_data['bestpsfmag_z']\n",
    "\n",
    "# creates class column where 2 represents white dwarfs\n",
    "f = {'class': [3]*4000}\n",
    "f1 = pd.DataFrame(f)\n",
    "\n",
    "# concatenates all new columns in a single dataframe\n",
    "quasars = pd.concat([quasar_data['bestra'], quasar_data['bestdec'], qso_u_g, qso_g_r, qso_r_i, qso_i_z, f1], axis=1)\n",
    "\n",
    "# relabels the new data frame\n",
    "quasars.columns = ['ra', 'dec', 'u - g', 'g - r', 'r - i', 'i - z', 'class']\n",
    "quasars.head()"
   ]
  },
  {
   "cell_type": "code",
   "execution_count": 16,
   "id": "b7528d20",
   "metadata": {},
   "outputs": [],
   "source": [
    "# splitting datasets: 70% of each dataset will be training data and 30% will be test data\n",
    "\n",
    "# pulls index that gives 70% of the data\n",
    "s_index = int(stars.shape[0] * 0.7)\n",
    "w_index = int(white_dwarfs.shape[0] * 0.7)\n",
    "q_index = int(quasars.shape[0] * 0.7)\n",
    "\n",
    "# separates stars dataset\n",
    "stars_train = stars.iloc[:s_index,:]\n",
    "stars_test = stars.iloc[s_index:,:]\n",
    "stars_test.reset_index(drop=True, inplace=True) # resets index values\n",
    "\n",
    "# separates white dwarfs dataset\n",
    "wd_train = white_dwarfs.iloc[:w_index,:]\n",
    "wd_test = white_dwarfs.iloc[w_index:,:]\n",
    "wd_test.reset_index(drop=True, inplace=True) # resets index values\n",
    "\n",
    "# separates quasars dataset\n",
    "quasars_train = quasars.iloc[:q_index,:]\n",
    "quasars_test = quasars.iloc[q_index:,:]\n",
    "quasars_test.reset_index(drop=True, inplace=True) # resets index values"
   ]
  },
  {
   "cell_type": "code",
   "execution_count": 17,
   "id": "639f4058",
   "metadata": {},
   "outputs": [],
   "source": [
    "# creates training dataset\n",
    "train_data = pd.concat([stars_train, wd_train, quasars_train], axis=0)\n",
    "train_data.reset_index(drop=True, inplace=True)"
   ]
  },
  {
   "cell_type": "code",
   "execution_count": 18,
   "id": "17b194d3",
   "metadata": {},
   "outputs": [
    {
     "name": "stdout",
     "output_type": "stream",
     "text": [
      "<class 'pandas.core.frame.DataFrame'>\n",
      "RangeIndex: 11900 entries, 0 to 11899\n",
      "Data columns (total 7 columns):\n",
      " #   Column  Non-Null Count  Dtype  \n",
      "---  ------  --------------  -----  \n",
      " 0   ra      11900 non-null  float64\n",
      " 1   dec     11900 non-null  float64\n",
      " 2   u - g   11900 non-null  float64\n",
      " 3   g - r   11900 non-null  float64\n",
      " 4   r - i   11900 non-null  float64\n",
      " 5   i - z   11900 non-null  float64\n",
      " 6   class   11900 non-null  int64  \n",
      "dtypes: float64(6), int64(1)\n",
      "memory usage: 650.9 KB\n"
     ]
    }
   ],
   "source": [
    "train_data.info()"
   ]
  },
  {
   "cell_type": "code",
   "execution_count": 19,
   "id": "a97ed60d",
   "metadata": {},
   "outputs": [
    {
     "name": "stdout",
     "output_type": "stream",
     "text": [
      "<class 'pandas.core.frame.DataFrame'>\n",
      "RangeIndex: 5100 entries, 0 to 5099\n",
      "Data columns (total 7 columns):\n",
      " #   Column  Non-Null Count  Dtype  \n",
      "---  ------  --------------  -----  \n",
      " 0   ra      5100 non-null   float64\n",
      " 1   dec     5100 non-null   float64\n",
      " 2   u - g   5100 non-null   float64\n",
      " 3   g - r   5100 non-null   float64\n",
      " 4   r - i   5100 non-null   float64\n",
      " 5   i - z   5100 non-null   float64\n",
      " 6   class   5100 non-null   int64  \n",
      "dtypes: float64(6), int64(1)\n",
      "memory usage: 279.0 KB\n"
     ]
    }
   ],
   "source": [
    "# creates test dataset\n",
    "test_data = pd.concat([stars_test, wd_test, quasars_test], axis=0)\n",
    "test_data.reset_index(drop=True, inplace=True)\n",
    "test_data.info()"
   ]
  },
  {
   "cell_type": "code",
   "execution_count": 20,
   "id": "4b56d844",
   "metadata": {},
   "outputs": [
    {
     "data": {
      "text/html": [
       "<div>\n",
       "<style scoped>\n",
       "    .dataframe tbody tr th:only-of-type {\n",
       "        vertical-align: middle;\n",
       "    }\n",
       "\n",
       "    .dataframe tbody tr th {\n",
       "        vertical-align: top;\n",
       "    }\n",
       "\n",
       "    .dataframe thead th {\n",
       "        text-align: right;\n",
       "    }\n",
       "</style>\n",
       "<table border=\"1\" class=\"dataframe\">\n",
       "  <thead>\n",
       "    <tr style=\"text-align: right;\">\n",
       "      <th></th>\n",
       "      <th>ra</th>\n",
       "      <th>dec</th>\n",
       "      <th>u - g</th>\n",
       "      <th>g - r</th>\n",
       "      <th>r - i</th>\n",
       "      <th>i - z</th>\n",
       "      <th>class</th>\n",
       "    </tr>\n",
       "  </thead>\n",
       "  <tbody>\n",
       "    <tr>\n",
       "      <th>count</th>\n",
       "      <td>11900.000</td>\n",
       "      <td>11900.000</td>\n",
       "      <td>11900.000</td>\n",
       "      <td>11900.000</td>\n",
       "      <td>11900.000</td>\n",
       "      <td>11900.000</td>\n",
       "      <td>11900.000</td>\n",
       "    </tr>\n",
       "    <tr>\n",
       "      <th>mean</th>\n",
       "      <td>154.513</td>\n",
       "      <td>19.263</td>\n",
       "      <td>0.992</td>\n",
       "      <td>0.340</td>\n",
       "      <td>0.133</td>\n",
       "      <td>0.049</td>\n",
       "      <td>1.706</td>\n",
       "    </tr>\n",
       "    <tr>\n",
       "      <th>std</th>\n",
       "      <td>63.041</td>\n",
       "      <td>16.341</td>\n",
       "      <td>0.751</td>\n",
       "      <td>0.411</td>\n",
       "      <td>0.242</td>\n",
       "      <td>0.211</td>\n",
       "      <td>0.824</td>\n",
       "    </tr>\n",
       "    <tr>\n",
       "      <th>min</th>\n",
       "      <td>0.028</td>\n",
       "      <td>-11.221</td>\n",
       "      <td>-2.255</td>\n",
       "      <td>-1.096</td>\n",
       "      <td>-1.887</td>\n",
       "      <td>-2.333</td>\n",
       "      <td>1.000</td>\n",
       "    </tr>\n",
       "    <tr>\n",
       "      <th>25%</th>\n",
       "      <td>122.422</td>\n",
       "      <td>13.822</td>\n",
       "      <td>0.357</td>\n",
       "      <td>0.059</td>\n",
       "      <td>-0.003</td>\n",
       "      <td>-0.027</td>\n",
       "      <td>1.000</td>\n",
       "    </tr>\n",
       "    <tr>\n",
       "      <th>50%</th>\n",
       "      <td>187.148</td>\n",
       "      <td>19.087</td>\n",
       "      <td>1.027</td>\n",
       "      <td>0.365</td>\n",
       "      <td>0.153</td>\n",
       "      <td>0.061</td>\n",
       "      <td>1.000</td>\n",
       "    </tr>\n",
       "    <tr>\n",
       "      <th>75%</th>\n",
       "      <td>191.784</td>\n",
       "      <td>23.868</td>\n",
       "      <td>1.426</td>\n",
       "      <td>0.564</td>\n",
       "      <td>0.250</td>\n",
       "      <td>0.141</td>\n",
       "      <td>2.000</td>\n",
       "    </tr>\n",
       "    <tr>\n",
       "      <th>max</th>\n",
       "      <td>359.952</td>\n",
       "      <td>76.320</td>\n",
       "      <td>6.994</td>\n",
       "      <td>3.884</td>\n",
       "      <td>1.868</td>\n",
       "      <td>2.108</td>\n",
       "      <td>3.000</td>\n",
       "    </tr>\n",
       "  </tbody>\n",
       "</table>\n",
       "</div>"
      ],
      "text/plain": [
       "              ra        dec      u - g      g - r      r - i      i - z  \\\n",
       "count  11900.000  11900.000  11900.000  11900.000  11900.000  11900.000   \n",
       "mean     154.513     19.263      0.992      0.340      0.133      0.049   \n",
       "std       63.041     16.341      0.751      0.411      0.242      0.211   \n",
       "min        0.028    -11.221     -2.255     -1.096     -1.887     -2.333   \n",
       "25%      122.422     13.822      0.357      0.059     -0.003     -0.027   \n",
       "50%      187.148     19.087      1.027      0.365      0.153      0.061   \n",
       "75%      191.784     23.868      1.426      0.564      0.250      0.141   \n",
       "max      359.952     76.320      6.994      3.884      1.868      2.108   \n",
       "\n",
       "           class  \n",
       "count  11900.000  \n",
       "mean       1.706  \n",
       "std        0.824  \n",
       "min        1.000  \n",
       "25%        1.000  \n",
       "50%        1.000  \n",
       "75%        2.000  \n",
       "max        3.000  "
      ]
     },
     "execution_count": 20,
     "metadata": {},
     "output_type": "execute_result"
    }
   ],
   "source": [
    "# checking statistics of training data\n",
    "set_option('precision', 3)\n",
    "train_data.describe()"
   ]
  },
  {
   "cell_type": "code",
   "execution_count": 21,
   "id": "7aaad7e2",
   "metadata": {},
   "outputs": [
    {
     "data": {
      "text/plain": [
       "ra       187.148\n",
       "dec       19.087\n",
       "u - g      1.027\n",
       "g - r      0.365\n",
       "r - i      0.153\n",
       "i - z      0.061\n",
       "class      1.000\n",
       "dtype: float64"
      ]
     },
     "execution_count": 21,
     "metadata": {},
     "output_type": "execute_result"
    }
   ],
   "source": [
    "train_data.median()"
   ]
  },
  {
   "cell_type": "code",
   "execution_count": 22,
   "id": "3b137548",
   "metadata": {},
   "outputs": [
    {
     "data": {
      "text/html": [
       "<div>\n",
       "<style scoped>\n",
       "    .dataframe tbody tr th:only-of-type {\n",
       "        vertical-align: middle;\n",
       "    }\n",
       "\n",
       "    .dataframe tbody tr th {\n",
       "        vertical-align: top;\n",
       "    }\n",
       "\n",
       "    .dataframe thead th {\n",
       "        text-align: right;\n",
       "    }\n",
       "</style>\n",
       "<table border=\"1\" class=\"dataframe\">\n",
       "  <thead>\n",
       "    <tr style=\"text-align: right;\">\n",
       "      <th></th>\n",
       "      <th>ra</th>\n",
       "      <th>dec</th>\n",
       "      <th>u - g</th>\n",
       "      <th>g - r</th>\n",
       "      <th>r - i</th>\n",
       "      <th>i - z</th>\n",
       "      <th>class</th>\n",
       "    </tr>\n",
       "  </thead>\n",
       "  <tbody>\n",
       "    <tr>\n",
       "      <th>0</th>\n",
       "      <td>34.837</td>\n",
       "      <td>-0.756</td>\n",
       "      <td>0.418</td>\n",
       "      <td>-0.329</td>\n",
       "      <td>-0.237</td>\n",
       "      <td>-0.189</td>\n",
       "      <td>1.0</td>\n",
       "    </tr>\n",
       "    <tr>\n",
       "      <th>1</th>\n",
       "      <td>NaN</td>\n",
       "      <td>NaN</td>\n",
       "      <td>NaN</td>\n",
       "      <td>-0.299</td>\n",
       "      <td>NaN</td>\n",
       "      <td>NaN</td>\n",
       "      <td>NaN</td>\n",
       "    </tr>\n",
       "    <tr>\n",
       "      <th>2</th>\n",
       "      <td>NaN</td>\n",
       "      <td>NaN</td>\n",
       "      <td>NaN</td>\n",
       "      <td>-0.265</td>\n",
       "      <td>NaN</td>\n",
       "      <td>NaN</td>\n",
       "      <td>NaN</td>\n",
       "    </tr>\n",
       "    <tr>\n",
       "      <th>3</th>\n",
       "      <td>NaN</td>\n",
       "      <td>NaN</td>\n",
       "      <td>NaN</td>\n",
       "      <td>-0.256</td>\n",
       "      <td>NaN</td>\n",
       "      <td>NaN</td>\n",
       "      <td>NaN</td>\n",
       "    </tr>\n",
       "    <tr>\n",
       "      <th>4</th>\n",
       "      <td>NaN</td>\n",
       "      <td>NaN</td>\n",
       "      <td>NaN</td>\n",
       "      <td>-0.055</td>\n",
       "      <td>NaN</td>\n",
       "      <td>NaN</td>\n",
       "      <td>NaN</td>\n",
       "    </tr>\n",
       "  </tbody>\n",
       "</table>\n",
       "</div>"
      ],
      "text/plain": [
       "       ra    dec  u - g  g - r  r - i  i - z  class\n",
       "0  34.837 -0.756  0.418 -0.329 -0.237 -0.189    1.0\n",
       "1     NaN    NaN    NaN -0.299    NaN    NaN    NaN\n",
       "2     NaN    NaN    NaN -0.265    NaN    NaN    NaN\n",
       "3     NaN    NaN    NaN -0.256    NaN    NaN    NaN\n",
       "4     NaN    NaN    NaN -0.055    NaN    NaN    NaN"
      ]
     },
     "execution_count": 22,
     "metadata": {},
     "output_type": "execute_result"
    }
   ],
   "source": [
    "train_data.mode()"
   ]
  },
  {
   "cell_type": "code",
   "execution_count": 23,
   "id": "482d304d",
   "metadata": {},
   "outputs": [
    {
     "data": {
      "text/plain": [
       "ra      -0.954\n",
       "dec      0.647\n",
       "u - g    0.496\n",
       "g - r    0.338\n",
       "r - i    0.410\n",
       "i - z   -0.443\n",
       "class    0.590\n",
       "dtype: float64"
      ]
     },
     "execution_count": 23,
     "metadata": {},
     "output_type": "execute_result"
    }
   ],
   "source": [
    "# Skewness Values\n",
    "skew = train_data.skew()\n",
    "skew"
   ]
  },
  {
   "cell_type": "code",
   "execution_count": 24,
   "id": "8bed3a89",
   "metadata": {},
   "outputs": [
    {
     "data": {
      "image/png": "[encoded data removed]",
      "text/plain": [
       "<Figure size 720x720 with 4 Axes>"
      ]
     },
     "metadata": {
      "needs_background": "light"
     },
     "output_type": "display_data"
    }
   ],
   "source": [
    "# Skewness Visualization\n",
    "\n",
    "color_indices = ['u - g', 'g - r', 'r - i', 'i - z']\n",
    "color = ['m', 'g', 'tab:pink', 'r']\n",
    "fig= plt.figure(figsize=(10,10))\n",
    "fig.subplots_adjust(left=0.1, right=0.96, bottom=0.05,top=0.6, wspace=0.3)\n",
    "j = 1\n",
    "for i in color_indices:\n",
    "    ax = fig.add_subplot(2,2,j)\n",
    "    sns.kdeplot(train_data[i], color=color[j-1])\n",
    "    j+=1"
   ]
  },
  {
   "cell_type": "code",
   "execution_count": 25,
   "id": "f894a793",
   "metadata": {},
   "outputs": [
    {
     "data": {
      "image/png": "[encoded data removed]",
      "text/plain": [
       "<Figure size 1080x648 with 4 Axes>"
      ]
     },
     "metadata": {
      "needs_background": "light"
     },
     "output_type": "display_data"
    }
   ],
   "source": [
    "fig= plt.figure(figsize=(15,9)) # Defines figure size\n",
    "\n",
    "fig.subplots_adjust(left=0.1, right=0.90, bottom=0.05,top=0.9, wspace=0.1) # Defines subplot spacing\n",
    "\n",
    "fig.suptitle('Data Dispersion Including Outliers', fontsize=15, fontweight='bold')\n",
    "\n",
    "j = 1\n",
    "\n",
    "for i in color_indices:\n",
    "    ax = fig.add_subplot(2,2,j) # identifies location of subplot\n",
    "    x = preprocessing.scale(train_data[i]) # scales data to standard deviations\n",
    "    x.sort() # sorts feature data in ascending order\n",
    "    \n",
    "    mu = x.mean()\n",
    "    sigma = x.std()\n",
    "\n",
    "    y = norm.pdf(x, mu, sigma) # normalizes the data\n",
    "    \n",
    "    x1 = np.linspace(mu - 3*sigma, mu + 3*sigma, len(x)) # creates points to fill plot up to 3 standard deviations\n",
    "    y1 = norm.pdf(x1, mu, sigma)\n",
    "    \n",
    "    ax.plot(x,y) \n",
    "    ax.fill_between(x1, y1, 0, alpha=0.1, color='b')\n",
    "\n",
    "    ax.set_title('Color Index: ' + i)\n",
    "    \n",
    "    if i == 'u - g':\n",
    "        ax.set_xlim([-5,9])\n",
    "    elif i == 'g - r':\n",
    "        ax.set_xlim([-4,9])\n",
    "    elif i == 'r - i':\n",
    "        ax.set_xlim([-9,8])\n",
    "    else:\n",
    "        ax.set_xlim([-13,11])\n",
    "\n",
    "    j+=1"
   ]
  },
  {
   "cell_type": "code",
   "execution_count": 26,
   "id": "06a41df3",
   "metadata": {},
   "outputs": [],
   "source": [
    "# computing z-score\n",
    "from scipy import stats\n",
    "z_score = np.abs(stats.zscore(train_data))\n",
    "threshold = 3\n",
    "train = train_data[(z_score <= 3).all(axis=1)]"
   ]
  },
  {
   "cell_type": "code",
   "execution_count": 27,
   "id": "708cebbe",
   "metadata": {},
   "outputs": [
    {
     "name": "stdout",
     "output_type": "stream",
     "text": [
      "<class 'pandas.core.frame.DataFrame'>\n",
      "RangeIndex: 11573 entries, 0 to 11572\n",
      "Data columns (total 7 columns):\n",
      " #   Column  Non-Null Count  Dtype  \n",
      "---  ------  --------------  -----  \n",
      " 0   ra      11573 non-null  float64\n",
      " 1   dec     11573 non-null  float64\n",
      " 2   u - g   11573 non-null  float64\n",
      " 3   g - r   11573 non-null  float64\n",
      " 4   r - i   11573 non-null  float64\n",
      " 5   i - z   11573 non-null  float64\n",
      " 6   class   11573 non-null  int64  \n",
      "dtypes: float64(6), int64(1)\n",
      "memory usage: 633.0 KB\n"
     ]
    }
   ],
   "source": [
    "train.reset_index(drop=True, inplace=True)\n",
    "train.info()"
   ]
  },
  {
   "cell_type": "code",
   "execution_count": 29,
   "id": "b9150bdd",
   "metadata": {},
   "outputs": [
    {
     "data": {
      "image/png": "[encoded data removed]",
      "text/plain": [
       "<Figure size 1080x648 with 4 Axes>"
      ]
     },
     "metadata": {
      "needs_background": "light"
     },
     "output_type": "display_data"
    }
   ],
   "source": [
    "# displays data dispersion after outliers are dropped\n",
    "fig= plt.figure(figsize=(15,9)) # Defines figure size\n",
    "\n",
    "fig.subplots_adjust(left=0.1, right=0.90, bottom=0.05,top=0.9, wspace=0.1) # Defines subplot spacing\n",
    "\n",
    "fig.suptitle('Data Dispersion without Outliers', fontsize=15, fontweight='bold')\n",
    "\n",
    "j = 1\n",
    "\n",
    "for i in color_indices:\n",
    "    ax = fig.add_subplot(2,2,j) # identifies location of subplot\n",
    "    x = preprocessing.scale(train[i])\n",
    "    x.sort() # sorts feature data in ascending order\n",
    "    \n",
    "    mu = x.mean()\n",
    "    sigma = x.std()\n",
    "    \n",
    "    y = norm.pdf(x, mu, sigma) # normalizes the data\n",
    "    \n",
    "    x1 = np.linspace(mu - 3*sigma, mu + 3*sigma, len(x))\n",
    "    y1 = norm.pdf(x1, mu, sigma)\n",
    "    \n",
    "    x2 = np.linspace(mu - 2*sigma, mu + 2*sigma, len(x))\n",
    "    y2 = norm.pdf(x2, mu, sigma)\n",
    "    \n",
    "    ax.plot(x,y)\n",
    "\n",
    "    ax.set_title('Color Index: ' + i)\n",
    "    ax.set_xlim([-4,4])\n",
    "    ax.fill_between(x,y,0, alpha=0.1, color='b')\n",
    "    if i == 'u - g':\n",
    "        ax.fill_between(x,y,0, alpha=0.1, color='b')\n",
    "    elif i == 'g - r':\n",
    "        ax.fill_between(x1,y1,0, alpha=0.1, color='b')\n",
    "    elif i == 'r - i':\n",
    "        ax.fill_between(x1,y1,0, alpha=0.1, color='b')\n",
    "    else:\n",
    "        ax.fill_between(x1,y1,0, alpha=0.1, color='b')\n",
    "    j+=1"
   ]
  },
  {
   "cell_type": "code",
   "execution_count": 30,
   "id": "cffce0cf",
   "metadata": {},
   "outputs": [
    {
     "data": {
      "text/plain": [
       "array([[<AxesSubplot:title={'center':'u - g'}>,\n",
       "        <AxesSubplot:title={'center':'g - r'}>],\n",
       "       [<AxesSubplot:title={'center':'r - i'}>,\n",
       "        <AxesSubplot:title={'center':'i - z'}>]], dtype=object)"
      ]
     },
     "execution_count": 30,
     "metadata": {},
     "output_type": "execute_result"
    },
    {
     "data": {
      "image/png": "[encoded data removed]",
      "text/plain": [
       "<Figure size 720x720 with 4 Axes>"
      ]
     },
     "metadata": {
      "needs_background": "light"
     },
     "output_type": "display_data"
    }
   ],
   "source": [
    "# histograms for color indices \n",
    "train.hist(['u - g', 'g - r', 'r - i', 'i - z'], sharex=True, figsize=(10,10))"
   ]
  },
  {
   "cell_type": "code",
   "execution_count": 31,
   "id": "54bb1859",
   "metadata": {},
   "outputs": [],
   "source": [
    "# min-max normalization using this in the report\n",
    "from sklearn.preprocessing import MinMaxScaler\n",
    "\n",
    "min_max = MinMaxScaler()\n",
    "\n",
    "train1 = train.drop(columns=['ra', 'dec', 'class'])\n",
    "\n",
    "train_norm = pd.DataFrame(min_max.fit_transform(train1), columns=['u - g', 'g - r', 'r - i', 'i - z'])"
   ]
  },
  {
   "cell_type": "code",
   "execution_count": 32,
   "id": "b27be0e1",
   "metadata": {},
   "outputs": [
    {
     "data": {
      "text/plain": [
       "array([[<AxesSubplot:title={'center':'u - g'}>,\n",
       "        <AxesSubplot:title={'center':'g - r'}>],\n",
       "       [<AxesSubplot:title={'center':'r - i'}>,\n",
       "        <AxesSubplot:title={'center':'i - z'}>]], dtype=object)"
      ]
     },
     "execution_count": 32,
     "metadata": {},
     "output_type": "execute_result"
    },
    {
     "data": {
      "image/png": "[encoded data removed]",
      "text/plain": [
       "<Figure size 720x720 with 4 Axes>"
      ]
     },
     "metadata": {
      "needs_background": "light"
     },
     "output_type": "display_data"
    }
   ],
   "source": [
    "train_norm.hist(figsize=(10,10))"
   ]
  },
  {
   "cell_type": "code",
   "execution_count": 33,
   "id": "5d661a83",
   "metadata": {},
   "outputs": [
    {
     "name": "stdout",
     "output_type": "stream",
     "text": [
      "<class 'pandas.core.frame.DataFrame'>\n",
      "RangeIndex: 11573 entries, 0 to 11572\n",
      "Data columns (total 7 columns):\n",
      " #   Column  Non-Null Count  Dtype  \n",
      "---  ------  --------------  -----  \n",
      " 0   ra      11573 non-null  float64\n",
      " 1   dec     11573 non-null  float64\n",
      " 2   u - g   11573 non-null  float64\n",
      " 3   g - r   11573 non-null  float64\n",
      " 4   r - i   11573 non-null  float64\n",
      " 5   i - z   11573 non-null  float64\n",
      " 6   class   11573 non-null  int64  \n",
      "dtypes: float64(6), int64(1)\n",
      "memory usage: 633.0 KB\n"
     ]
    }
   ],
   "source": [
    "# reconcatenating data set\n",
    "norm_train = train.drop(columns=['u - g', 'g - r', 'r - i', 'i - z'])\n",
    "final_train = pd.concat([norm_train['ra'], norm_train['dec'], train_norm['u - g'], train_norm['g - r'], \n",
    "                        train_norm['r - i'], train_norm['i - z'], norm_train['class']], axis=1)\n",
    "final_train.info()"
   ]
  },
  {
   "cell_type": "code",
   "execution_count": 34,
   "id": "0bf034c1",
   "metadata": {},
   "outputs": [
    {
     "data": {
      "text/plain": [
       "class\n",
       "1    6267\n",
       "2    2598\n",
       "3    2708\n",
       "dtype: int64"
      ]
     },
     "execution_count": 34,
     "metadata": {},
     "output_type": "execute_result"
    }
   ],
   "source": [
    "# Class count for final training set\n",
    "class_counts = final_train.groupby('class').size()\n",
    "class_counts"
   ]
  },
  {
   "cell_type": "code",
   "execution_count": 35,
   "id": "f382ee77",
   "metadata": {},
   "outputs": [],
   "source": [
    "star_class = class_counts[1]/final_train['class'].size # 0.54\n",
    "wd_class = class_counts[2]/final_train['class'].size # 0.22\n",
    "quasar_class = class_counts[3]/final_train['class'].size # 0.24"
   ]
  },
  {
   "cell_type": "code",
   "execution_count": 36,
   "id": "401eb796",
   "metadata": {},
   "outputs": [
    {
     "data": {
      "text/plain": [
       "2.412240184757506"
      ]
     },
     "execution_count": 36,
     "metadata": {},
     "output_type": "execute_result"
    }
   ],
   "source": [
    "star_class/wd_class"
   ]
  },
  {
   "cell_type": "code",
   "execution_count": 37,
   "id": "f79ff968",
   "metadata": {},
   "outputs": [
    {
     "data": {
      "text/plain": [
       "2.3142540620384047"
      ]
     },
     "execution_count": 37,
     "metadata": {},
     "output_type": "execute_result"
    }
   ],
   "source": [
    "star_class/quasar_class"
   ]
  },
  {
   "cell_type": "code",
   "execution_count": 38,
   "id": "7c1f791c",
   "metadata": {},
   "outputs": [
    {
     "data": {
      "text/plain": [
       "0.9593796159527327"
      ]
     },
     "execution_count": 38,
     "metadata": {},
     "output_type": "execute_result"
    }
   ],
   "source": [
    "wd_class/quasar_class"
   ]
  },
  {
   "cell_type": "code",
   "execution_count": 39,
   "id": "023addf1",
   "metadata": {},
   "outputs": [],
   "source": [
    "# cleaning test data\n",
    "from scipy import stats\n",
    "z_score = np.abs(stats.zscore(test_data))\n",
    "threshold = 3\n",
    "clean_test = test_data[(z_score <= 3).all(axis=1)]"
   ]
  },
  {
   "cell_type": "code",
   "execution_count": 40,
   "id": "ef8f02e0",
   "metadata": {},
   "outputs": [
    {
     "name": "stdout",
     "output_type": "stream",
     "text": [
      "<class 'pandas.core.frame.DataFrame'>\n",
      "RangeIndex: 4858 entries, 0 to 4857\n",
      "Data columns (total 7 columns):\n",
      " #   Column  Non-Null Count  Dtype  \n",
      "---  ------  --------------  -----  \n",
      " 0   ra      4858 non-null   float64\n",
      " 1   dec     4858 non-null   float64\n",
      " 2   u - g   4858 non-null   float64\n",
      " 3   g - r   4858 non-null   float64\n",
      " 4   r - i   4858 non-null   float64\n",
      " 5   i - z   4858 non-null   float64\n",
      " 6   class   4858 non-null   int64  \n",
      "dtypes: float64(6), int64(1)\n",
      "memory usage: 265.8 KB\n"
     ]
    }
   ],
   "source": [
    "clean_test.reset_index(drop=True, inplace=True)\n",
    "clean_test.info()"
   ]
  },
  {
   "cell_type": "code",
   "execution_count": 41,
   "id": "c7131031",
   "metadata": {},
   "outputs": [],
   "source": [
    "# normalize test data\n",
    "from sklearn.preprocessing import MinMaxScaler\n",
    "\n",
    "min_max = MinMaxScaler()\n",
    "\n",
    "test1 = clean_test.drop(columns=['ra', 'dec', 'class'])\n",
    "\n",
    "test_norm = pd.DataFrame(min_max.fit_transform(test1), columns=['u - g', 'g - r', 'r - i', 'i - z'])"
   ]
  },
  {
   "cell_type": "code",
   "execution_count": 42,
   "id": "f5e38112",
   "metadata": {},
   "outputs": [
    {
     "name": "stdout",
     "output_type": "stream",
     "text": [
      "<class 'pandas.core.frame.DataFrame'>\n",
      "RangeIndex: 4858 entries, 0 to 4857\n",
      "Data columns (total 7 columns):\n",
      " #   Column  Non-Null Count  Dtype  \n",
      "---  ------  --------------  -----  \n",
      " 0   ra      4858 non-null   float64\n",
      " 1   dec     4858 non-null   float64\n",
      " 2   u - g   4858 non-null   float64\n",
      " 3   g - r   4858 non-null   float64\n",
      " 4   r - i   4858 non-null   float64\n",
      " 5   i - z   4858 non-null   float64\n",
      " 6   class   4858 non-null   int64  \n",
      "dtypes: float64(6), int64(1)\n",
      "memory usage: 265.8 KB\n"
     ]
    }
   ],
   "source": [
    "# reconcatenating test dataset\n",
    "norm_test = clean_test.drop(columns=['u - g', 'g - r', 'r - i', 'i - z'])\n",
    "final_test = pd.concat([norm_test['ra'], norm_test['dec'], test_norm['u - g'], test_norm['g - r'], \n",
    "                        test_norm['r - i'], test_norm['i - z'], norm_test['class']], axis=1)\n",
    "final_test.info()"
   ]
  },
  {
   "cell_type": "code",
   "execution_count": 43,
   "id": "6511cb8c",
   "metadata": {},
   "outputs": [],
   "source": [
    "# Saving clean training data and test data to files\n",
    "final_train.to_csv(\"/Users/sara/Documents/training_set.csv\", index=False)\n",
    "final_test.to_csv(\"/Users/sara/Documents/test_set.csv\", index=False)"
   ]
  },
  {
   "cell_type": "code",
   "execution_count": null,
   "id": "f9a039bc",
   "metadata": {},
   "outputs": [],
   "source": []
  }
 ],
 "metadata": {
  "kernelspec": {
   "display_name": "Python 3 (ipykernel)",
   "language": "python",
   "name": "python3"
  },
  "language_info": {
   "codemirror_mode": {
    "name": "ipython",
    "version": 3
   },
   "file_extension": ".py",
   "mimetype": "text/x-python",
   "name": "python",
   "nbconvert_exporter": "python",
   "pygments_lexer": "ipython3",
   "version": "3.8.11"
  }
 },
 "nbformat": 4,
 "nbformat_minor": 5
}
