{
 "cells": [
  {
   "cell_type": "code",
   "execution_count": 1,
   "id": "b8aed970",
   "metadata": {},
   "outputs": [],
   "source": [
    "import pandas as pd\n",
    "from pandas import set_option\n",
    "import numpy as np\n",
    "import math\n",
    "import matplotlib.pyplot as plt\n",
    "import seaborn as sns\n",
    "from scipy.stats import norm\n",
    "from sklearn import preprocessing\n",
    "from sklearn.model_selection import train_test_split\n",
    "from sklearn.svm import SVC\n",
    "from sklearn.metrics import classification_report, confusion_matrix\n",
    "from sklearn.model_selection import cross_val_score\n",
    "from sklearn.model_selection import KFold\n",
    "from sklearn.model_selection import GridSearchCV\n",
    "from sklearn.model_selection import StratifiedKFold\n",
    "from sklearn.metrics import ConfusionMatrixDisplay"
   ]
  },
  {
   "cell_type": "code",
   "execution_count": 2,
   "id": "3c0e58a0",
   "metadata": {},
   "outputs": [],
   "source": [
    "train = pd.read_csv(\"/Users/sara/Documents/training_set.csv\")\n",
    "test = pd.read_csv(\"/Users/sara/Documents/test_set.csv\")"
   ]
  },
  {
   "cell_type": "code",
   "execution_count": 3,
   "id": "b90205fe",
   "metadata": {},
   "outputs": [],
   "source": [
    "X_data = train.drop(columns=['ra', 'dec', 'class'])\n",
    "Y_data = train['class']\n",
    "X_test = test.drop(columns=['ra', 'dec', 'class'])\n",
    "Y_test = test['class']"
   ]
  },
  {
   "cell_type": "code",
   "execution_count": 4,
   "id": "c95d59dc",
   "metadata": {},
   "outputs": [
    {
     "name": "stdout",
     "output_type": "stream",
     "text": [
      "# Tuning hyper-parameters for accuracy\n",
      "\n",
      "Best parameters set found on development set:\n",
      "\n",
      "{'C': 1, 'kernel': 'linear'}\n",
      "\n",
      "Grid scores on development set:\n",
      "\n",
      "0.875 (+/-0.032) for {'C': 0.01, 'kernel': 'linear'}\n",
      "0.905 (+/-0.038) for {'C': 0.1, 'kernel': 'linear'}\n",
      "0.907 (+/-0.037) for {'C': 1, 'kernel': 'linear'}\n",
      "0.906 (+/-0.036) for {'C': 10, 'kernel': 'linear'}\n",
      "0.906 (+/-0.036) for {'C': 100, 'kernel': 'linear'}\n",
      "0.906 (+/-0.035) for {'C': 1000, 'kernel': 'linear'}\n",
      "\n",
      "Detailed classification report:\n",
      "\n",
      "The model is trained on the full development set.\n",
      "The scores are computed on the full evaluation set.\n",
      "\n",
      "              precision    recall  f1-score   support\n",
      "\n",
      "           1       0.94      1.00      0.97      2676\n",
      "           2       0.90      0.92      0.91      1131\n",
      "           3       0.89      0.73      0.80      1051\n",
      "\n",
      "    accuracy                           0.92      4858\n",
      "   macro avg       0.91      0.88      0.89      4858\n",
      "weighted avg       0.92      0.92      0.92      4858\n",
      "\n",
      "\n"
     ]
    }
   ],
   "source": [
    "# Identifies optimal C parameter for linear SVM \n",
    "# cv=10 in GridSearchCV uses Stratified 10-fold validation\n",
    "\n",
    "tuned_params = [{'kernel': ['linear'], 'C': [0.01, 0.1, 1, 10, 100, 1000]}]\n",
    "\n",
    "print('# Tuning hyper-parameters for accuracy')\n",
    "print()\n",
    "    \n",
    "clf = GridSearchCV(SVC(), tuned_params, scoring='accuracy', cv=10)\n",
    "clf.fit(X_data, Y_data)\n",
    "    \n",
    "print('Best parameters set found on development set:')\n",
    "print()\n",
    "print(clf.best_params_)\n",
    "print()\n",
    "print('Grid scores on development set:')\n",
    "print()\n",
    "means = clf.cv_results_['mean_test_score']\n",
    "std = clf.cv_results_['std_test_score']\n",
    "for mean, std, params in zip(means, std, clf.cv_results_['params']):\n",
    "    print('%0.3f (+/-%0.03f) for %r' % (mean, std*2, params))\n",
    "print()\n",
    "\n",
    "\n",
    "# Classification Report\n",
    "print('Detailed classification report:')\n",
    "print()\n",
    "print('The model is trained on the full development set.')\n",
    "print('The scores are computed on the full evaluation set.')\n",
    "print()\n",
    "Y_pred = clf.predict(X_test)\n",
    "print(classification_report(Y_test, Y_pred))\n",
    "print()"
   ]
  },
  {
   "cell_type": "code",
   "execution_count": 6,
   "id": "e746d7d6",
   "metadata": {},
   "outputs": [
    {
     "name": "stdout",
     "output_type": "stream",
     "text": [
      "[[2669    0    7]\n",
      " [   2 1037   92]\n",
      " [ 169  120  762]]\n"
     ]
    }
   ],
   "source": [
    "# initializing and training linear SVM\n",
    "\n",
    "svc_linear = SVC(C=1, kernel='linear', probability=True)\n",
    "svc_linear.fit(X_data, Y_data)\n",
    "\n",
    "# computing linear SVC predictions with test data\n",
    "Y_pred_linear = svc_linear.predict(X_test)\n",
    "\n",
    "print(confusion_matrix(Y_test, Y_pred_linear))"
   ]
  },
  {
   "cell_type": "code",
   "execution_count": 7,
   "id": "7c5aa6f4",
   "metadata": {},
   "outputs": [
    {
     "name": "stdout",
     "output_type": "stream",
     "text": [
      "              precision    recall  f1-score   support\n",
      "\n",
      "           1       0.94      1.00      0.97      2676\n",
      "           2       0.90      0.92      0.91      1131\n",
      "           3       0.89      0.73      0.80      1051\n",
      "\n",
      "    accuracy                           0.92      4858\n",
      "   macro avg       0.91      0.88      0.89      4858\n",
      "weighted avg       0.92      0.92      0.92      4858\n",
      "\n"
     ]
    }
   ],
   "source": [
    "print(classification_report(Y_test, Y_pred_linear))"
   ]
  },
  {
   "cell_type": "code",
   "execution_count": 8,
   "id": "e31e2d31",
   "metadata": {},
   "outputs": [
    {
     "data": {
      "text/plain": [
       "0.9068521558800656"
      ]
     },
     "execution_count": 8,
     "metadata": {},
     "output_type": "execute_result"
    }
   ],
   "source": [
    "# Training accuracy for linear SVM \n",
    "Y_pred_linear_train = svc_linear.predict(X_data)\n",
    "linear_train_accuracy = accuracy_score(Y_data, Y_pred_linear_train)\n",
    "linear_train_accuracy"
   ]
  },
  {
   "cell_type": "code",
   "execution_count": 9,
   "id": "77b52964",
   "metadata": {},
   "outputs": [
    {
     "data": {
      "text/plain": [
       "0.9197200494030465"
      ]
     },
     "execution_count": 9,
     "metadata": {},
     "output_type": "execute_result"
    }
   ],
   "source": [
    "# Test accuracy for linear SVM\n",
    "linear_test_accuracy = accuracy_score(Y_test, Y_pred_linear)\n",
    "linear_test_accuracy"
   ]
  },
  {
   "cell_type": "code",
   "execution_count": 10,
   "id": "987078a5",
   "metadata": {},
   "outputs": [
    {
     "data": {
      "image/png": "[encoded data removed]",
      "text/plain": [
       "<Figure size 432x288 with 2 Axes>"
      ]
     },
     "metadata": {
      "needs_background": "light"
     },
     "output_type": "display_data"
    },
    {
     "data": {
      "image/png": "[encoded data removed]",
      "text/plain": [
       "<Figure size 432x288 with 2 Axes>"
      ]
     },
     "metadata": {
      "needs_background": "light"
     },
     "output_type": "display_data"
    }
   ],
   "source": [
    "# plots confusion matrices for linear SVM\n",
    "class_names = ['MS & RG', 'WD', 'QSO']\n",
    "\n",
    "titles_options = [(\"Confusion Matrix for Linear SVM\", None),\n",
    "                  (\"Normalized Confusion Matrix for Linear SVM\", \"true\")]\n",
    "\n",
    "for title, normalize in titles_options:\n",
    "    disp = ConfusionMatrixDisplay.from_estimator(svc_linear, X_test, Y_test, \n",
    "                                                 display_labels=class_names, \n",
    "                                                 cmap=plt.cm.Blues,\n",
    "                                                 normalize=normalize)\n",
    "    disp.ax_.set_title(title)\n",
    "\n",
    "plt.show()"
   ]
  },
  {
   "cell_type": "code",
   "execution_count": 11,
   "id": "6a87e3ba",
   "metadata": {},
   "outputs": [
    {
     "name": "stdout",
     "output_type": "stream",
     "text": [
      "Accuracy: 92.137% (1.475%)\n"
     ]
    }
   ],
   "source": [
    "# 10-fold cross-validation for linear SVM\n",
    "kfold = KFold(n_splits=10, random_state=300, shuffle=True)\n",
    "svc_linear_results = cross_val_score(svc_linear, X_test, Y_test, cv=kfold)\n",
    "print('Accuracy: %.3f%% (%.3f%%)' % (svc_linear_results.mean()*100.0, svc_linear_results.std()*100.0))"
   ]
  },
  {
   "cell_type": "code",
   "execution_count": 12,
   "id": "afd96cf5",
   "metadata": {},
   "outputs": [
    {
     "name": "stdout",
     "output_type": "stream",
     "text": [
      "The best parameters are {'C': 10.0, 'gamma': 10.0, 'kernel': 'rbf'} with a score of 0.96\n"
     ]
    }
   ],
   "source": [
    "# cv=10 in GridSearchCV uses Stratified 10-fold cross-validation\n",
    "from sklearn.model_selection import StratifiedShuffleSplit\n",
    "\n",
    "C_range = np.logspace(-1, 4, 6)\n",
    "gamma_range = np.logspace(-2, 3, 6)\n",
    "param_grid = dict(kernel=['rbf'], gamma=gamma_range, C=C_range)\n",
    "grid = GridSearchCV(SVC(), param_grid=param_grid, cv=10)\n",
    "grid.fit(X_data, Y_data)\n",
    "\n",
    "print('The best parameters are %s with a score of %0.2f' \n",
    "      % (grid.best_params_, grid.best_score_))"
   ]
  },
  {
   "cell_type": "code",
   "execution_count": 13,
   "id": "33ffbe38",
   "metadata": {},
   "outputs": [
    {
     "name": "stdout",
     "output_type": "stream",
     "text": [
      "0.620 (+/-0.032) for {'C': 0.1, 'gamma': 0.01, 'kernel': 'rbf'}\n",
      "0.895 (+/-0.035) for {'C': 0.1, 'gamma': 0.1, 'kernel': 'rbf'}\n",
      "0.909 (+/-0.035) for {'C': 0.1, 'gamma': 1.0, 'kernel': 'rbf'}\n",
      "0.945 (+/-0.023) for {'C': 0.1, 'gamma': 10.0, 'kernel': 'rbf'}\n",
      "0.956 (+/-0.013) for {'C': 0.1, 'gamma': 100.0, 'kernel': 'rbf'}\n",
      "0.856 (+/-0.024) for {'C': 0.1, 'gamma': 1000.0, 'kernel': 'rbf'}\n",
      "0.895 (+/-0.035) for {'C': 1.0, 'gamma': 0.01, 'kernel': 'rbf'}\n",
      "0.907 (+/-0.038) for {'C': 1.0, 'gamma': 0.1, 'kernel': 'rbf'}\n",
      "0.921 (+/-0.033) for {'C': 1.0, 'gamma': 1.0, 'kernel': 'rbf'}\n",
      "0.957 (+/-0.014) for {'C': 1.0, 'gamma': 10.0, 'kernel': 'rbf'}\n",
      "0.959 (+/-0.010) for {'C': 1.0, 'gamma': 100.0, 'kernel': 'rbf'}\n",
      "0.931 (+/-0.019) for {'C': 1.0, 'gamma': 1000.0, 'kernel': 'rbf'}\n",
      "0.907 (+/-0.039) for {'C': 10.0, 'gamma': 0.01, 'kernel': 'rbf'}\n",
      "0.912 (+/-0.037) for {'C': 10.0, 'gamma': 0.1, 'kernel': 'rbf'}\n",
      "0.941 (+/-0.026) for {'C': 10.0, 'gamma': 1.0, 'kernel': 'rbf'}\n",
      "0.960 (+/-0.014) for {'C': 10.0, 'gamma': 10.0, 'kernel': 'rbf'}\n",
      "0.957 (+/-0.011) for {'C': 10.0, 'gamma': 100.0, 'kernel': 'rbf'}\n",
      "0.926 (+/-0.020) for {'C': 10.0, 'gamma': 1000.0, 'kernel': 'rbf'}\n",
      "0.907 (+/-0.037) for {'C': 100.0, 'gamma': 0.01, 'kernel': 'rbf'}\n",
      "0.921 (+/-0.033) for {'C': 100.0, 'gamma': 0.1, 'kernel': 'rbf'}\n",
      "0.952 (+/-0.015) for {'C': 100.0, 'gamma': 1.0, 'kernel': 'rbf'}\n",
      "0.958 (+/-0.014) for {'C': 100.0, 'gamma': 10.0, 'kernel': 'rbf'}\n",
      "0.953 (+/-0.013) for {'C': 100.0, 'gamma': 100.0, 'kernel': 'rbf'}\n",
      "0.915 (+/-0.024) for {'C': 100.0, 'gamma': 1000.0, 'kernel': 'rbf'}\n",
      "0.912 (+/-0.037) for {'C': 1000.0, 'gamma': 0.01, 'kernel': 'rbf'}\n",
      "0.939 (+/-0.027) for {'C': 1000.0, 'gamma': 0.1, 'kernel': 'rbf'}\n",
      "0.958 (+/-0.014) for {'C': 1000.0, 'gamma': 1.0, 'kernel': 'rbf'}\n",
      "0.957 (+/-0.017) for {'C': 1000.0, 'gamma': 10.0, 'kernel': 'rbf'}\n",
      "0.945 (+/-0.013) for {'C': 1000.0, 'gamma': 100.0, 'kernel': 'rbf'}\n",
      "0.912 (+/-0.024) for {'C': 1000.0, 'gamma': 1000.0, 'kernel': 'rbf'}\n",
      "0.921 (+/-0.032) for {'C': 10000.0, 'gamma': 0.01, 'kernel': 'rbf'}\n",
      "0.948 (+/-0.018) for {'C': 10000.0, 'gamma': 0.1, 'kernel': 'rbf'}\n",
      "0.959 (+/-0.014) for {'C': 10000.0, 'gamma': 1.0, 'kernel': 'rbf'}\n",
      "0.957 (+/-0.015) for {'C': 10000.0, 'gamma': 10.0, 'kernel': 'rbf'}\n",
      "0.935 (+/-0.016) for {'C': 10000.0, 'gamma': 100.0, 'kernel': 'rbf'}\n",
      "0.912 (+/-0.024) for {'C': 10000.0, 'gamma': 1000.0, 'kernel': 'rbf'}\n",
      "\n"
     ]
    }
   ],
   "source": [
    "# used this to get std for ideal params\n",
    "means1 = grid.cv_results_['mean_test_score']\n",
    "std1 = grid.cv_results_['std_test_score']\n",
    "\n",
    "for mean, std, params in zip(means1, std1, grid.cv_results_['params']):\n",
    "    print('%0.3f (+/-%0.03f) for %r' % (mean, std*2, params))\n",
    "print()"
   ]
  },
  {
   "cell_type": "code",
   "execution_count": 14,
   "id": "db21b5d3",
   "metadata": {},
   "outputs": [],
   "source": [
    "from matplotlib.colors import Normalize\n",
    "\n",
    "class MidpointNormalize(Normalize):\n",
    "    def __init__(self, vmin=None, vmax=None, midpoint=None, clip=False):\n",
    "        self.midpoint = midpoint\n",
    "        Normalize.__init__(self, vmin, vmax, clip)\n",
    "\n",
    "    def __call__(self, value, clip=None):\n",
    "        x, y = [self.vmin, self.midpoint, self.vmax], [0, 0.5, 1]\n",
    "        return np.ma.masked_array(np.interp(value, x, y))"
   ]
  },
  {
   "cell_type": "code",
   "execution_count": 15,
   "id": "2c93237a",
   "metadata": {},
   "outputs": [
    {
     "data": {
      "image/png": "[encoded data removed]",
      "text/plain": [
       "<Figure size 576x432 with 2 Axes>"
      ]
     },
     "metadata": {
      "needs_background": "light"
     },
     "output_type": "display_data"
    }
   ],
   "source": [
    "# outputs heatmap of best Gaussian SVM parameters\n",
    "scores = grid.cv_results_[\"mean_test_score\"].reshape(len(C_range), len(gamma_range))\n",
    "\n",
    "plt.figure(figsize=(8, 6))\n",
    "plt.subplots_adjust(left=0.2, right=0.95, bottom=0.15, top=0.95)\n",
    "plt.imshow(scores, interpolation=\"nearest\", cmap=plt.cm.hot, \n",
    "           norm=MidpointNormalize(vmin=0.2, midpoint=0.92))\n",
    "plt.xlabel(\"gamma\")\n",
    "plt.ylabel(\"C\")\n",
    "plt.colorbar()\n",
    "plt.xticks(np.arange(len(gamma_range)), gamma_range, rotation=45)\n",
    "plt.yticks(np.arange(len(C_range)), C_range)\n",
    "plt.title(\"Validation accuracy\")\n",
    "plt.show()"
   ]
  },
  {
   "cell_type": "code",
   "execution_count": 16,
   "id": "f9fe2604",
   "metadata": {},
   "outputs": [
    {
     "name": "stdout",
     "output_type": "stream",
     "text": [
      "[[2614    0   62]\n",
      " [   1 1107   23]\n",
      " [  33   73  945]]\n"
     ]
    }
   ],
   "source": [
    "# initializing and training Gaussian SVM\n",
    "svc_Gauss = SVC(C=10, kernel='rbf', gamma=10, probability=True)\n",
    "svc_Gauss.fit(X_data, Y_data)\n",
    "\n",
    "# computing Gaussian SVM predictions with test data\n",
    "Y_pred_Gauss = svc_Gauss.predict(X_test)\n",
    "\n",
    "print(confusion_matrix(Y_test, Y_pred_Gauss))"
   ]
  },
  {
   "cell_type": "code",
   "execution_count": 17,
   "id": "6034b4b8",
   "metadata": {},
   "outputs": [
    {
     "name": "stdout",
     "output_type": "stream",
     "text": [
      "              precision    recall  f1-score   support\n",
      "\n",
      "           1       0.99      0.98      0.98      2676\n",
      "           2       0.94      0.98      0.96      1131\n",
      "           3       0.92      0.90      0.91      1051\n",
      "\n",
      "    accuracy                           0.96      4858\n",
      "   macro avg       0.95      0.95      0.95      4858\n",
      "weighted avg       0.96      0.96      0.96      4858\n",
      "\n"
     ]
    }
   ],
   "source": [
    "print(classification_report(Y_test, Y_pred_Gauss))"
   ]
  },
  {
   "cell_type": "code",
   "execution_count": 18,
   "id": "6ef7f284",
   "metadata": {},
   "outputs": [
    {
     "data": {
      "text/plain": [
       "0.962671735937095"
      ]
     },
     "execution_count": 18,
     "metadata": {},
     "output_type": "execute_result"
    }
   ],
   "source": [
    "# training accuracy for Gaussian SVM \n",
    "Y_pred_Gauss_train = svc_Gauss.predict(X_data)\n",
    "Gauss_train_accuracy = accuracy_score(Y_data, Y_pred_Gauss_train)\n",
    "Gauss_train_accuracy"
   ]
  },
  {
   "cell_type": "code",
   "execution_count": 19,
   "id": "5de513da",
   "metadata": {},
   "outputs": [
    {
     "data": {
      "text/plain": [
       "0.9604775627830383"
      ]
     },
     "execution_count": 19,
     "metadata": {},
     "output_type": "execute_result"
    }
   ],
   "source": [
    "# test accuracy for Gaussian SVM\n",
    "Gauss_test_accuracy = accuracy_score(Y_test, Y_pred_Gauss)\n",
    "Gauss_test_accuracy"
   ]
  },
  {
   "cell_type": "code",
   "execution_count": 20,
   "id": "89d02d4e",
   "metadata": {},
   "outputs": [
    {
     "data": {
      "image/png": "[encoded data removed]",
      "text/plain": [
       "<Figure size 432x288 with 2 Axes>"
      ]
     },
     "metadata": {
      "needs_background": "light"
     },
     "output_type": "display_data"
    },
    {
     "data": {
      "image/png": "[encoded data removed]",
      "text/plain": [
       "<Figure size 432x288 with 2 Axes>"
      ]
     },
     "metadata": {
      "needs_background": "light"
     },
     "output_type": "display_data"
    }
   ],
   "source": [
    "# plot confusion matrices for Gaussian SVM\n",
    "class_names = ['MS/RG', 'WD', 'QSO']\n",
    "\n",
    "titles_options = [(\"Confusion Matrix for Gaussian SVM\", None),\n",
    "                  (\"Normalized Confusion Matrix for Gaussian SVM\", \"true\")]\n",
    "\n",
    "for title, normalize in titles_options:\n",
    "    disp = ConfusionMatrixDisplay.from_estimator(svc_Gauss, X_test, Y_test, \n",
    "                                                 display_labels=class_names, \n",
    "                                                 cmap=plt.cm.Blues,\n",
    "                                                 normalize=normalize)\n",
    "    disp.ax_.set_title(title)\n",
    "\n",
    "plt.show()"
   ]
  },
  {
   "cell_type": "code",
   "execution_count": 21,
   "id": "e2303ecb",
   "metadata": {},
   "outputs": [
    {
     "name": "stdout",
     "output_type": "stream",
     "text": [
      "Accuracy: 96.542% (0.886%)\n"
     ]
    }
   ],
   "source": [
    "# 10-fold cross-validation for Gaussian SVM\n",
    "kfold = KFold(n_splits=10, random_state=300, shuffle=True)\n",
    "\n",
    "svc_Gauss_results = cross_val_score(svc_Gauss, X_test, Y_test, cv=kfold)\n",
    "print('Accuracy: %.3f%% (%.3f%%)' % (svc_Gauss_results.mean()*100.0, svc_Gauss_results.std()*100.0))"
   ]
  },
  {
   "cell_type": "code",
   "execution_count": null,
   "id": "a4072c7e",
   "metadata": {},
   "outputs": [],
   "source": []
  }
 ],
 "metadata": {
  "kernelspec": {
   "display_name": "Python 3 (ipykernel)",
   "language": "python",
   "name": "python3"
  },
  "language_info": {
   "codemirror_mode": {
    "name": "ipython",
    "version": 3
   },
   "file_extension": ".py",
   "mimetype": "text/x-python",
   "name": "python",
   "nbconvert_exporter": "python",
   "pygments_lexer": "ipython3",
   "version": "3.8.11"
  }
 },
 "nbformat": 4,
 "nbformat_minor": 5
}
