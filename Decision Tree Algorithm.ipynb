{
 "cells": [
  {
   "cell_type": "code",
   "execution_count": 240,
   "id": "9d02dae2",
   "metadata": {
    "tags": []
   },
   "outputs": [],
   "source": [
    "import pandas as pd\n",
    "import ssl\n",
    "ssl._create_default_https_context = ssl._create_unverified_context\n",
    "from pandas import set_option\n",
    "import numpy as np\n",
    "import matplotlib.pyplot as plt"
   ]
  },
  {
   "cell_type": "code",
   "execution_count": 241,
   "id": "ad4aeb82",
   "metadata": {
    "tags": []
   },
   "outputs": [],
   "source": [
    "# reads training dataset\n",
    "training_data = pd.read_csv(\"C:/Users/vidas/OneDrive/University/COMP 542 - Machine Learning/Group Project/training_set.csv\")"
   ]
  },
  {
   "cell_type": "code",
   "execution_count": null,
   "id": "36e2718c",
   "metadata": {},
   "outputs": [],
   "source": [
    "\n",
    "\n"
   ]
  },
  {
   "cell_type": "code",
   "execution_count": 242,
   "id": "103eae8a",
   "metadata": {},
   "outputs": [],
   "source": [
    "# reads test dataset\n",
    "test_data = pd.read_csv(\"C:/Users/vidas/OneDrive/University/COMP 542 - Machine Learning/Group Project/test_set.csv\")"
   ]
  },
  {
   "cell_type": "code",
   "execution_count": 243,
   "id": "fe58877e-ada8-423d-bd3d-6bc5dfa26fe2",
   "metadata": {},
   "outputs": [],
   "source": [
    "#split the training data\n",
    "training_x = training_data.iloc[:, 2:-1]\n",
    "training_y = training_data.iloc[:, 6:7]\n",
    "\n"
   ]
  },
  {
   "cell_type": "code",
   "execution_count": 244,
   "id": "76048c38-6a2a-4212-8d3b-15954d8bd7af",
   "metadata": {},
   "outputs": [],
   "source": [
    "#split the test data\n",
    "test_x = test_data.iloc[:, 2:-1]\n",
    "test_y = test_data.iloc[:, 6:7]"
   ]
  },
  {
   "cell_type": "code",
   "execution_count": 245,
   "id": "282db8ef-2e42-44a8-ad86-c74c28f0a2e3",
   "metadata": {},
   "outputs": [],
   "source": [
    "y = training_data.iloc[:, [6]].values\n",
    "x = training_data.iloc[:, [2,3,4,5]]\n",
    "\n",
    "\n",
    "y_train = training_y.values\n",
    "x_train = training_x.values\n",
    "y_test = test_y.values\n",
    "x_test = test_x.values\n",
    "\n",
    "#feature Scaling  \n",
    "from sklearn.preprocessing import StandardScaler    \n",
    "st_x= StandardScaler()  \n",
    "x_train= st_x.fit_transform(x_train)    \n",
    "x_test= st_x.transform(x_test)    \n",
    "\n"
   ]
  },
  {
   "cell_type": "code",
   "execution_count": 246,
   "id": "ec6b89ed",
   "metadata": {},
   "outputs": [
    {
     "data": {
      "text/plain": [
       "DecisionTreeClassifier(criterion='entropy', random_state=0)"
      ]
     },
     "execution_count": 246,
     "metadata": {},
     "output_type": "execute_result"
    }
   ],
   "source": [
    "#Fitting Decision Tree classifier to the training set  \n",
    "from sklearn.tree import DecisionTreeClassifier  \n",
    "classifier= DecisionTreeClassifier(criterion='entropy', random_state=0)  \n",
    "classifier.fit(x_train, y_train)  "
   ]
  },
  {
   "cell_type": "code",
   "execution_count": 247,
   "id": "e101433e-4659-4477-9e7a-dfe9e6bc3359",
   "metadata": {},
   "outputs": [],
   "source": [
    "#Predicting the test set result  \n",
    "y_pred= classifier.predict(x_test)  "
   ]
  },
  {
   "cell_type": "code",
   "execution_count": 248,
   "id": "a144e4bd-8b35-4bba-938b-605f3676ea04",
   "metadata": {},
   "outputs": [],
   "source": [
    "#Creating the Confusion matrix  \n",
    "from sklearn.metrics import confusion_matrix  \n",
    "cm= confusion_matrix(y_test, y_pred)  \n"
   ]
  },
  {
   "cell_type": "code",
   "execution_count": 249,
   "id": "94c6eaca-d613-45c3-8677-0cefca3c7746",
   "metadata": {},
   "outputs": [
    {
     "name": "stdout",
     "output_type": "stream",
     "text": [
      "[[2413    5  258]\n",
      " [   2 1067   62]\n",
      " [ 125  112  814]]\n",
      "              precision    recall  f1-score   support\n",
      "\n",
      "           1       0.95      0.90      0.93      2676\n",
      "           2       0.90      0.94      0.92      1131\n",
      "           3       0.72      0.77      0.75      1051\n",
      "\n",
      "    accuracy                           0.88      4858\n",
      "   macro avg       0.86      0.87      0.86      4858\n",
      "weighted avg       0.89      0.88      0.89      4858\n",
      "\n"
     ]
    }
   ],
   "source": [
    "from sklearn.metrics import confusion_matrix, classification_report, ConfusionMatrixDisplay\n",
    "print(confusion_matrix(y_test, y_pred))\n",
    "print(classification_report(y_test, y_pred))"
   ]
  },
  {
   "cell_type": "code",
   "execution_count": 250,
   "id": "e91e217d-e98d-4f21-abcf-2214dfa3029f",
   "metadata": {
    "tags": []
   },
   "outputs": [],
   "source": [
    "from sklearn.model_selection import cross_val_score\n",
    "\n",
    "# function for fitting trees of various depths on the training data using cross-validation\n",
    "def run_cross_validation_on_trees(X, y, tree_depths, cv=5, scoring='accuracy'):\n",
    "    cv_scores_list = []\n",
    "    cv_scores_std = []\n",
    "    cv_scores_mean = []\n",
    "    accuracy_scores = []\n",
    "    for depth in tree_depths:\n",
    "        tree_model = DecisionTreeClassifier(max_depth=depth)\n",
    "        cv_scores = cross_val_score(tree_model, X, y, cv=cv, scoring=scoring)\n",
    "        cv_scores_list.append(cv_scores)\n",
    "        cv_scores_mean.append(cv_scores.mean())\n",
    "        cv_scores_std.append(cv_scores.std())\n",
    "        accuracy_scores.append(tree_model.fit(X, y).score(X, y))\n",
    "    cv_scores_mean = np.array(cv_scores_mean)\n",
    "    cv_scores_std = np.array(cv_scores_std)\n",
    "    accuracy_scores = np.array(accuracy_scores)\n",
    "    return cv_scores_mean, cv_scores_std, accuracy_scores\n",
    "  \n",
    "\n",
    "\n",
    "# fitting trees of depth 1 to 24\n",
    "sm_tree_depths = range(1,25)\n",
    "sm_cv_scores_mean, sm_cv_scores_std, sm_accuracy_scores = run_cross_validation_on_trees(x_train, y_train, sm_tree_depths)\n"
   ]
  },
  {
   "cell_type": "code",
   "execution_count": 251,
   "id": "f219f894-ff7f-40b6-8219-3cc3c0142cb8",
   "metadata": {},
   "outputs": [
    {
     "data": {
      "image/png": "[encoded data removed]",
      "text/plain": [
       "<Figure size 1080x360 with 1 Axes>"
      ]
     },
     "metadata": {
      "needs_background": "light"
     },
     "output_type": "display_data"
    }
   ],
   "source": [
    "\n",
    "# function for plotting cross-validation results\n",
    "def plot_cross_validation_on_trees(depths, cv_scores_mean, cv_scores_std, accuracy_scores, title):\n",
    "    fig, ax = plt.subplots(1,1, figsize=(15,5))\n",
    "    ax.plot(depths, cv_scores_mean, '-o', label='mean cross-validation accuracy', alpha=0.9)\n",
    "    ax.fill_between(depths, cv_scores_mean-2*cv_scores_std, cv_scores_mean+2*cv_scores_std, alpha=0.2)\n",
    "    ylim = plt.ylim()\n",
    "    ax.plot(depths, accuracy_scores, '-*', label='train accuracy', alpha=0.9)\n",
    "    ax.set_title(title, fontsize=16)\n",
    "    ax.set_xlabel('Tree depth', fontsize=14)\n",
    "    ax.set_ylabel('Accuracy', fontsize=14)\n",
    "    ax.set_ylim(ylim)\n",
    "    ax.set_xticks(depths)\n",
    "    ax.legend()\n",
    "\n",
    "# plotting accuracy\n",
    "plot_cross_validation_on_trees(sm_tree_depths, sm_cv_scores_mean, sm_cv_scores_std, sm_accuracy_scores, \n",
    "                               'Accuracy per decision tree depth on training data')"
   ]
  },
  {
   "cell_type": "code",
   "execution_count": 252,
   "id": "96b4d231-c3a5-474a-997b-43cfecd06395",
   "metadata": {},
   "outputs": [
    {
     "name": "stdout",
     "output_type": "stream",
     "text": [
      "The depth-7 tree achieves the best mean cross-validation accuracy 94.84158 +/- 0.73713% on training dataset\n"
     ]
    }
   ],
   "source": [
    "idx_max = sm_cv_scores_mean.argmax()\n",
    "sm_best_tree_depth = sm_tree_depths[idx_max]\n",
    "sm_best_tree_cv_score = sm_cv_scores_mean[idx_max]\n",
    "sm_best_tree_cv_score_std = sm_cv_scores_std[idx_max]\n",
    "print('The depth-{} tree achieves the best mean cross-validation accuracy {} +/- {}% on training dataset'.format(\n",
    "      sm_best_tree_depth, round(sm_best_tree_cv_score*100,5), round(sm_best_tree_cv_score_std*100, 5)))"
   ]
  },
  {
   "cell_type": "code",
   "execution_count": 253,
   "id": "07b74592-647b-482d-bc08-d9d16205fc3b",
   "metadata": {
    "tags": []
   },
   "outputs": [
    {
     "name": "stdout",
     "output_type": "stream",
     "text": [
      "Single tree depth:  7\n",
      "Accuracy, Training Set:  96.31038 %\n",
      "Accuracy, Test Set:  92.6513 %\n"
     ]
    }
   ],
   "source": [
    "# function for training and evaluating a tree\n",
    "def run_single_tree(X_train, y_train, X_test, y_test, depth):\n",
    "    model = DecisionTreeClassifier(max_depth=depth).fit(X_train, y_train)\n",
    "    accuracy_train = model.score(X_train, y_train)\n",
    "    accuracy_test = model.score(X_test, y_test)\n",
    "    print('Single tree depth: ', depth)\n",
    "    print('Accuracy, Training Set: ', round(accuracy_train*100,5), '%')\n",
    "    print('Accuracy, Test Set: ', round(accuracy_test*100,5), '%')\n",
    "    return accuracy_train, accuracy_test\n",
    "  \n",
    "\n",
    "# train and evaluate the best depth tree\n",
    "sm_best_tree_accuracy_train, sm_best_tree_accuracy_test = run_single_tree(x_train, y_train, \n",
    "                                                                          x_test, y_test, \n",
    "                                                                          sm_best_tree_depth)"
   ]
  },
  {
   "cell_type": "code",
   "execution_count": 254,
   "id": "d2812332-73b4-4fdd-b795-de8e71817d0f",
   "metadata": {},
   "outputs": [],
   "source": [
    "decision_tree = DecisionTreeClassifier(max_depth=sm_best_tree_depth).fit(x_train, y_train)\n",
    "#Predicting the test set result  \n",
    "y_pred= decision_tree.predict(x_test)  "
   ]
  },
  {
   "cell_type": "code",
   "execution_count": 255,
   "id": "9b5aa1fe-88d6-4831-a19b-8398c64af824",
   "metadata": {},
   "outputs": [
    {
     "data": {
      "image/png": "[encoded data removed]",
      "text/plain": [
       "<Figure size 432x288 with 2 Axes>"
      ]
     },
     "metadata": {
      "needs_background": "light"
     },
     "output_type": "display_data"
    },
    {
     "data": {
      "image/png": "[encoded data removed]",
      "text/plain": [
       "<Figure size 432x288 with 2 Axes>"
      ]
     },
     "metadata": {
      "needs_background": "light"
     },
     "output_type": "display_data"
    }
   ],
   "source": [
    "class_names = ['MS & RG', 'WD', 'QSO']\n",
    "\n",
    "titles_options = [(\"Confusion Matrix for Decision Tree\", None),(\"Normalized Confusion Matrix for Decision Tree\", \"true\")]\n",
    "\n",
    "for title, normalize in titles_options:\n",
    "    disp = ConfusionMatrixDisplay.from_estimator(decision_tree, x_test, y_test, display_labels=class_names,cmap=plt.cm.Blues,normalize=normalize)\n",
    "    disp.ax_.set_title(title)\n",
    "    \n",
    "plt.show()"
   ]
  },
  {
   "cell_type": "code",
   "execution_count": 256,
   "id": "ebc7b688-56f2-4d5c-84cd-46f6315f5959",
   "metadata": {},
   "outputs": [
    {
     "name": "stdout",
     "output_type": "stream",
     "text": [
      "              precision    recall  f1-score   support\n",
      "\n",
      "           1       0.95      0.97      0.96      2676\n",
      "           2       0.93      0.95      0.94      1131\n",
      "           3       0.87      0.80      0.83      1051\n",
      "\n",
      "    accuracy                           0.93      4858\n",
      "   macro avg       0.92      0.91      0.91      4858\n",
      "weighted avg       0.93      0.93      0.93      4858\n",
      "\n"
     ]
    }
   ],
   "source": [
    "print(classification_report(y_test, y_pred))"
   ]
  },
  {
   "cell_type": "code",
   "execution_count": null,
   "id": "ff4edb93-d0d4-43f0-8523-9c63da0e0291",
   "metadata": {},
   "outputs": [],
   "source": []
  },
  {
   "cell_type": "code",
   "execution_count": null,
   "id": "ed1b1686-9f47-4394-b52b-9ff66c47f7b3",
   "metadata": {},
   "outputs": [],
   "source": []
  },
  {
   "cell_type": "code",
   "execution_count": null,
   "id": "86b6fb52-bf9f-42e4-8404-7eec2234214a",
   "metadata": {},
   "outputs": [],
   "source": []
  },
  {
   "cell_type": "code",
   "execution_count": null,
   "id": "b20ed065-677c-4e8e-b178-b2387335e76e",
   "metadata": {},
   "outputs": [],
   "source": []
  },
  {
   "cell_type": "code",
   "execution_count": null,
   "id": "a913b4bf-e27c-47aa-8951-bb89fe3d57ab",
   "metadata": {},
   "outputs": [],
   "source": []
  },
  {
   "cell_type": "code",
   "execution_count": null,
   "id": "07637202-2629-4f47-85f5-ce024217ad45",
   "metadata": {},
   "outputs": [],
   "source": []
  },
  {
   "cell_type": "code",
   "execution_count": null,
   "id": "69f5f9cc-6419-4f34-8024-a281f7d9df49",
   "metadata": {},
   "outputs": [],
   "source": []
  },
  {
   "cell_type": "code",
   "execution_count": null,
   "id": "582de172-be7d-4528-bf73-384e0f078572",
   "metadata": {},
   "outputs": [],
   "source": []
  },
  {
   "cell_type": "code",
   "execution_count": null,
   "id": "e3388294-15bd-492d-81f2-0ea3146328b9",
   "metadata": {},
   "outputs": [],
   "source": []
  },
  {
   "cell_type": "code",
   "execution_count": null,
   "id": "5866cbc5-b781-4c4c-8508-ba93fce2136d",
   "metadata": {},
   "outputs": [],
   "source": []
  },
  {
   "cell_type": "code",
   "execution_count": null,
   "id": "cbb9687d-1c3a-4fcc-976b-e225153cc939",
   "metadata": {},
   "outputs": [],
   "source": []
  },
  {
   "cell_type": "code",
   "execution_count": null,
   "id": "51465e93-ff9c-4444-a4e2-5a921dc81c0b",
   "metadata": {},
   "outputs": [],
   "source": []
  },
  {
   "cell_type": "code",
   "execution_count": null,
   "id": "9a579936-3156-4e0d-a531-f562fe04d856",
   "metadata": {},
   "outputs": [],
   "source": []
  },
  {
   "cell_type": "code",
   "execution_count": null,
   "id": "0505c782-a34a-4149-8899-4572a873742d",
   "metadata": {},
   "outputs": [],
   "source": []
  },
  {
   "cell_type": "code",
   "execution_count": null,
   "id": "6be3b016-6cf1-4f53-b57b-a37dc301e4d7",
   "metadata": {},
   "outputs": [],
   "source": []
  },
  {
   "cell_type": "code",
   "execution_count": null,
   "id": "d0f1dc46-f3bf-4376-90f7-877ef646705e",
   "metadata": {},
   "outputs": [],
   "source": []
  },
  {
   "cell_type": "code",
   "execution_count": null,
   "id": "d26a4a39-04b7-4446-be78-b842b8374264",
   "metadata": {},
   "outputs": [],
   "source": []
  },
  {
   "cell_type": "code",
   "execution_count": null,
   "id": "3a0c165d-f5de-4c12-9d15-56f03b704782",
   "metadata": {},
   "outputs": [],
   "source": []
  },
  {
   "cell_type": "code",
   "execution_count": null,
   "id": "ef6d1e9f-9845-4e98-9fec-e036bda8fe7e",
   "metadata": {},
   "outputs": [],
   "source": []
  },
  {
   "cell_type": "code",
   "execution_count": null,
   "id": "62fe315c-4acd-41ff-b865-54ea3f4b1086",
   "metadata": {},
   "outputs": [],
   "source": []
  },
  {
   "cell_type": "code",
   "execution_count": null,
   "id": "ba0f655a-11d9-490e-bc69-03352bc49368",
   "metadata": {},
   "outputs": [],
   "source": []
  },
  {
   "cell_type": "code",
   "execution_count": null,
   "id": "f33177bd-b621-4157-a0af-c203f136e922",
   "metadata": {},
   "outputs": [],
   "source": []
  },
  {
   "cell_type": "code",
   "execution_count": null,
   "id": "df34f890-8d46-48e1-bde4-5531e27a11b2",
   "metadata": {},
   "outputs": [],
   "source": []
  },
  {
   "cell_type": "code",
   "execution_count": null,
   "id": "b0a911e1-4166-4407-9f77-07bbf02480a5",
   "metadata": {},
   "outputs": [],
   "source": []
  },
  {
   "cell_type": "code",
   "execution_count": null,
   "id": "231bed42-6fd3-4b6e-9e58-d7b1bbd34b9f",
   "metadata": {},
   "outputs": [],
   "source": []
  },
  {
   "cell_type": "code",
   "execution_count": null,
   "id": "0ef49a7b-9e62-42ec-8710-445238501275",
   "metadata": {},
   "outputs": [],
   "source": []
  },
  {
   "cell_type": "code",
   "execution_count": null,
   "id": "ce661cd3-c51d-42ee-a400-45ae101cc7a3",
   "metadata": {},
   "outputs": [],
   "source": []
  },
  {
   "cell_type": "code",
   "execution_count": null,
   "id": "33139144-4ec6-45ed-98ee-31827ea2beb8",
   "metadata": {},
   "outputs": [],
   "source": []
  },
  {
   "cell_type": "code",
   "execution_count": null,
   "id": "f7f4dabe-30a3-4f8f-a6b8-b25765bd4b2d",
   "metadata": {},
   "outputs": [],
   "source": []
  },
  {
   "cell_type": "code",
   "execution_count": null,
   "id": "a2b29e46-e59a-4722-8ad2-9aeb9d54764e",
   "metadata": {},
   "outputs": [],
   "source": []
  },
  {
   "cell_type": "code",
   "execution_count": null,
   "id": "f7924d9c-bab9-49ac-8ea2-32cb17a9f6af",
   "metadata": {},
   "outputs": [],
   "source": []
  },
  {
   "cell_type": "code",
   "execution_count": null,
   "id": "d5a390ed-0977-4d51-aa04-dd64df808002",
   "metadata": {},
   "outputs": [],
   "source": []
  },
  {
   "cell_type": "code",
   "execution_count": null,
   "id": "e1e2d8a6-8f67-44a4-a432-f39ba7a7c1b6",
   "metadata": {},
   "outputs": [],
   "source": []
  },
  {
   "cell_type": "code",
   "execution_count": null,
   "id": "5b8bce19-6c1a-4485-bad0-5892e26d4269",
   "metadata": {},
   "outputs": [],
   "source": []
  },
  {
   "cell_type": "code",
   "execution_count": null,
   "id": "a578ceed-abe1-47a9-b9d9-90f668e33d9f",
   "metadata": {},
   "outputs": [],
   "source": []
  },
  {
   "cell_type": "code",
   "execution_count": null,
   "id": "a32c3557-1059-41c8-8bfe-13675f604f69",
   "metadata": {},
   "outputs": [],
   "source": []
  },
  {
   "cell_type": "code",
   "execution_count": null,
   "id": "d2965ac7-6094-4a67-8353-f1b8350747c9",
   "metadata": {},
   "outputs": [],
   "source": []
  },
  {
   "cell_type": "code",
   "execution_count": null,
   "id": "5175225b-324a-4e36-8da7-025cbb4bfdf0",
   "metadata": {},
   "outputs": [],
   "source": []
  },
  {
   "cell_type": "code",
   "execution_count": null,
   "id": "3e3eeaa9-f9c6-4584-bbd6-5ecadc065659",
   "metadata": {},
   "outputs": [],
   "source": []
  },
  {
   "cell_type": "code",
   "execution_count": null,
   "id": "d65a9d71-5ced-48f3-a1dd-93c4927eb8d8",
   "metadata": {},
   "outputs": [],
   "source": []
  },
  {
   "cell_type": "code",
   "execution_count": null,
   "id": "e5092a37-27ed-4fc7-99e1-79687cc89706",
   "metadata": {},
   "outputs": [],
   "source": []
  },
  {
   "cell_type": "code",
   "execution_count": null,
   "id": "8acf51ce-bf9c-4c52-89c9-5a8527891700",
   "metadata": {},
   "outputs": [],
   "source": []
  },
  {
   "cell_type": "code",
   "execution_count": null,
   "id": "a8f88bc4-0f00-446f-9ac4-efa41203963a",
   "metadata": {},
   "outputs": [],
   "source": []
  },
  {
   "cell_type": "code",
   "execution_count": null,
   "id": "d32bece2-ed34-4877-9f12-67834c8ad174",
   "metadata": {},
   "outputs": [],
   "source": []
  },
  {
   "cell_type": "code",
   "execution_count": null,
   "id": "96c75b8f-528d-4f0e-a397-f8e947f10534",
   "metadata": {},
   "outputs": [],
   "source": []
  },
  {
   "cell_type": "code",
   "execution_count": null,
   "id": "a0d3a4b1-4a5c-4675-99cc-0eb81cc0f747",
   "metadata": {},
   "outputs": [],
   "source": []
  },
  {
   "cell_type": "code",
   "execution_count": null,
   "id": "e22cdd16-17a7-4e12-96b1-dbc09bccfa88",
   "metadata": {},
   "outputs": [],
   "source": []
  },
  {
   "cell_type": "code",
   "execution_count": null,
   "id": "03dd3218-66af-49b6-bd3a-833a4f8d10d9",
   "metadata": {},
   "outputs": [],
   "source": []
  },
  {
   "cell_type": "code",
   "execution_count": null,
   "id": "ec1fbee5-86ff-4943-a203-6ca39ae34b97",
   "metadata": {},
   "outputs": [],
   "source": []
  },
  {
   "cell_type": "code",
   "execution_count": null,
   "id": "ff05d2ec-b9f5-4940-8e78-b13602a54060",
   "metadata": {},
   "outputs": [],
   "source": []
  },
  {
   "cell_type": "code",
   "execution_count": null,
   "id": "971d76bc-e195-40fc-9b98-66da09305ea5",
   "metadata": {},
   "outputs": [],
   "source": []
  },
  {
   "cell_type": "code",
   "execution_count": null,
   "id": "5003af70-636e-4b0d-a468-854c8e5b4aed",
   "metadata": {},
   "outputs": [],
   "source": []
  },
  {
   "cell_type": "code",
   "execution_count": null,
   "id": "99dc9ac7-78cf-402a-a7b2-dafada6e949a",
   "metadata": {},
   "outputs": [],
   "source": []
  },
  {
   "cell_type": "code",
   "execution_count": null,
   "id": "879b635c-a81b-43c8-a024-8252460621a9",
   "metadata": {},
   "outputs": [],
   "source": []
  },
  {
   "cell_type": "code",
   "execution_count": null,
   "id": "c82fceb7-6472-46f3-b1d5-72728bd82843",
   "metadata": {},
   "outputs": [],
   "source": []
  }
 ],
 "metadata": {
  "kernelspec": {
   "display_name": "Python 3 (ipykernel)",
   "language": "python",
   "name": "python3"
  },
  "language_info": {
   "codemirror_mode": {
    "name": "ipython",
    "version": 3
   },
   "file_extension": ".py",
   "mimetype": "text/x-python",
   "name": "python",
   "nbconvert_exporter": "python",
   "pygments_lexer": "ipython3",
   "version": "3.10.0"
  }
 },
 "nbformat": 4,
 "nbformat_minor": 5
}
