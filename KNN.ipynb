{
 "cells": [
  {
   "cell_type": "code",
   "execution_count": 21,
   "id": "9c7403b4",
   "metadata": {},
   "outputs": [],
   "source": [
    "import pandas as pd\n",
    "import numpy as np\n",
    "import matplotlib.pyplot as plt\n",
    "from sklearn.neighbors import KNeighborsClassifier\n",
    "from sklearn.model_selection import train_test_split\n",
    "from sklearn.metrics import classification_report, confusion_matrix"
   ]
  },
  {
   "cell_type": "code",
   "execution_count": 22,
   "id": "ba6551c2",
   "metadata": {},
   "outputs": [],
   "source": [
    "df1 = pd.read_csv(\"/Users/sara/Documents/training_set.csv\")\n",
    "df2 = pd.read_csv(\"/Users/sara/Documents/test_set.csv\")"
   ]
  },
  {
   "cell_type": "code",
   "execution_count": 23,
   "id": "8d2da091",
   "metadata": {},
   "outputs": [
    {
     "name": "stdout",
     "output_type": "stream",
     "text": [
      "<class 'pandas.core.frame.DataFrame'>\n",
      "RangeIndex: 11573 entries, 0 to 11572\n",
      "Data columns (total 4 columns):\n",
      " #   Column  Non-Null Count  Dtype  \n",
      "---  ------  --------------  -----  \n",
      " 0   u - g   11573 non-null  float64\n",
      " 1   g - r   11573 non-null  float64\n",
      " 2   r - i   11573 non-null  float64\n",
      " 3   i - z   11573 non-null  float64\n",
      "dtypes: float64(4)\n",
      "memory usage: 361.8 KB\n"
     ]
    }
   ],
   "source": [
    "# train data features\n",
    "df1_x=df1.iloc[:, 2:-1]\n",
    "df1_x.info()"
   ]
  },
  {
   "cell_type": "code",
   "execution_count": 24,
   "id": "7388e846",
   "metadata": {},
   "outputs": [
    {
     "name": "stdout",
     "output_type": "stream",
     "text": [
      "<class 'pandas.core.frame.DataFrame'>\n",
      "RangeIndex: 11573 entries, 0 to 11572\n",
      "Data columns (total 1 columns):\n",
      " #   Column  Non-Null Count  Dtype\n",
      "---  ------  --------------  -----\n",
      " 0   class   11573 non-null  int64\n",
      "dtypes: int64(1)\n",
      "memory usage: 90.5 KB\n"
     ]
    }
   ],
   "source": [
    "# train data outcomes\n",
    "df1_y=df1.iloc[:, 6:7]\n",
    "df1_y.info()"
   ]
  },
  {
   "cell_type": "code",
   "execution_count": 25,
   "id": "b87d3056",
   "metadata": {},
   "outputs": [],
   "source": [
    "# test data features and outcome\n",
    "df2_x=df2.iloc[:, 2:-1]\n",
    "df2_y=df2.iloc[:, 6:7]"
   ]
  },
  {
   "cell_type": "code",
   "execution_count": 26,
   "id": "fb0411be",
   "metadata": {
    "scrolled": false
   },
   "outputs": [
    {
     "data": {
      "image/png": "[encoded data removed]",
      "text/plain": [
       "<Figure size 432x288 with 1 Axes>"
      ]
     },
     "metadata": {
      "needs_background": "light"
     },
     "output_type": "display_data"
    }
   ],
   "source": [
    "# identifying optimal k-value\n",
    "neighbors = np.arange(1, 40)\n",
    "train_accuracy = np.empty(len(neighbors))\n",
    "test_accuracy = np.empty(len(neighbors))\n",
    " \n",
    "# Loop over K values\n",
    "for i, k in enumerate(neighbors):\n",
    "    knn = KNeighborsClassifier(n_neighbors=k)\n",
    "    knn.fit(df1_x, df1_y.values.ravel())\n",
    "     \n",
    "    # Compute training and test data accuracy\n",
    "    train_accuracy[i] = knn.score(df1_x, df1_y.values.ravel())\n",
    "    test_accuracy[i] = knn.score(df2_x, df2_y.values.ravel())\n",
    "\n",
    "# Generate plot\n",
    "plt.plot(neighbors, test_accuracy, label = 'Testing dataset Accuracy')\n",
    "plt.plot(neighbors, train_accuracy, label = 'Training dataset Accuracy')\n",
    " \n",
    "plt.legend()\n",
    "plt.xlabel('n_neighbors')\n",
    "plt.ylabel('Accuracy')\n",
    "plt.show()"
   ]
  },
  {
   "cell_type": "code",
   "execution_count": 27,
   "id": "24b286b3",
   "metadata": {},
   "outputs": [],
   "source": [
    "# training and testing KNN\n",
    "knn = KNeighborsClassifier(n_neighbors=35)\n",
    "knn.fit(df1_x, df1_y.values.ravel())\n",
    "Y_pred = knn.predict(df2_x)"
   ]
  },
  {
   "cell_type": "code",
   "execution_count": 28,
   "id": "d2717dd5",
   "metadata": {},
   "outputs": [
    {
     "data": {
      "text/plain": [
       "0.9585241510412166"
      ]
     },
     "execution_count": 28,
     "metadata": {},
     "output_type": "execute_result"
    }
   ],
   "source": [
    "# training accuracy\n",
    "knn.score(df1_x, df1_y.values.ravel())"
   ]
  },
  {
   "cell_type": "code",
   "execution_count": 29,
   "id": "15ed9a94",
   "metadata": {},
   "outputs": [
    {
     "data": {
      "text/plain": [
       "0.9580074104569781"
      ]
     },
     "execution_count": 29,
     "metadata": {},
     "output_type": "execute_result"
    }
   ],
   "source": [
    "# test accuracy\n",
    "knn.score(df2_x,df2_y.values.ravel())"
   ]
  },
  {
   "cell_type": "code",
   "execution_count": 27,
   "id": "346b8bae",
   "metadata": {},
   "outputs": [
    {
     "name": "stdout",
     "output_type": "stream",
     "text": [
      "[[2640    0   36]\n",
      " [   1 1106   24]\n",
      " [  66   77  908]]\n",
      "              precision    recall  f1-score   support\n",
      "\n",
      "           1       0.98      0.99      0.98      2676\n",
      "           2       0.93      0.98      0.96      1131\n",
      "           3       0.94      0.86      0.90      1051\n",
      "\n",
      "    accuracy                           0.96      4858\n",
      "   macro avg       0.95      0.94      0.95      4858\n",
      "weighted avg       0.96      0.96      0.96      4858\n",
      "\n"
     ]
    }
   ],
   "source": [
    "print(confusion_matrix(df2_y, Y_pred))\n",
    "print(classification_report(df2_y, Y_pred))"
   ]
  },
  {
   "cell_type": "code",
   "execution_count": 32,
   "id": "0f64ee80",
   "metadata": {},
   "outputs": [
    {
     "data": {
      "image/png": "[encoded data removed]",
      "text/plain": [
       "<Figure size 432x288 with 2 Axes>"
      ]
     },
     "metadata": {
      "needs_background": "light"
     },
     "output_type": "display_data"
    },
    {
     "data": {
      "image/png": "[encoded data removed]",
      "text/plain": [
       "<Figure size 432x288 with 2 Axes>"
      ]
     },
     "metadata": {
      "needs_background": "light"
     },
     "output_type": "display_data"
    }
   ],
   "source": [
    "from sklearn.metrics import ConfusionMatrixDisplay\n",
    "#plt.rcParams.update(plt.rcParamsDefault)\n",
    "class_names = ['MS/RG', 'WD', 'QSO']\n",
    "titles_options = [(\"Confusion Matrix for KNN\", None),\n",
    "                  (\"Normalized Confusion Matrix for KNN\", \"true\")]\n",
    "\n",
    "for title, normalize in titles_options:\n",
    "    disp = ConfusionMatrixDisplay.from_estimator(knn, df2_x, df2_y, \n",
    "                                                 display_labels=class_names, \n",
    "                                                 cmap=plt.cm.Blues,\n",
    "                                                 normalize=normalize)\n",
    "    disp.ax_.set_title(title)\n",
    "\n",
    "plt.show()"
   ]
  },
  {
   "cell_type": "code",
   "execution_count": null,
   "id": "5cec68d0",
   "metadata": {},
   "outputs": [],
   "source": []
  },
  {
   "cell_type": "code",
   "execution_count": null,
   "id": "d110f3a9",
   "metadata": {},
   "outputs": [],
   "source": []
  },
  {
   "cell_type": "code",
   "execution_count": null,
   "id": "ddc94592",
   "metadata": {},
   "outputs": [],
   "source": []
  },
  {
   "cell_type": "code",
   "execution_count": null,
   "id": "371773ba",
   "metadata": {},
   "outputs": [],
   "source": []
  },
  {
   "cell_type": "code",
   "execution_count": null,
   "id": "72505552",
   "metadata": {},
   "outputs": [],
   "source": []
  },
  {
   "cell_type": "code",
   "execution_count": null,
   "id": "38e7751c",
   "metadata": {},
   "outputs": [],
   "source": []
  },
  {
   "cell_type": "code",
   "execution_count": null,
   "id": "bb600b83",
   "metadata": {},
   "outputs": [],
   "source": []
  },
  {
   "cell_type": "code",
   "execution_count": 12,
   "id": "9c949bcf",
   "metadata": {},
   "outputs": [],
   "source": []
  },
  {
   "cell_type": "code",
   "execution_count": null,
   "id": "2bb4f3fa",
   "metadata": {},
   "outputs": [],
   "source": []
  },
  {
   "cell_type": "code",
   "execution_count": null,
   "id": "d837adb4",
   "metadata": {},
   "outputs": [],
   "source": []
  },
  {
   "cell_type": "code",
   "execution_count": null,
   "id": "4e664bdd",
   "metadata": {},
   "outputs": [],
   "source": []
  },
  {
   "cell_type": "code",
   "execution_count": null,
   "id": "54bd1463",
   "metadata": {},
   "outputs": [],
   "source": []
  },
  {
   "cell_type": "code",
   "execution_count": null,
   "id": "fcf29566",
   "metadata": {},
   "outputs": [],
   "source": []
  }
 ],
 "metadata": {
  "kernelspec": {
   "display_name": "Python 3 (ipykernel)",
   "language": "python",
   "name": "python3"
  },
  "language_info": {
   "codemirror_mode": {
    "name": "ipython",
    "version": 3
   },
   "file_extension": ".py",
   "mimetype": "text/x-python",
   "name": "python",
   "nbconvert_exporter": "python",
   "pygments_lexer": "ipython3",
   "version": "3.8.11"
  }
 },
 "nbformat": 4,
 "nbformat_minor": 5
}
